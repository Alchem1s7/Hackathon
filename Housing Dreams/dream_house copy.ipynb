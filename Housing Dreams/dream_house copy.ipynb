{
 "cells": [
  {
   "cell_type": "code",
   "execution_count": 167,
   "metadata": {},
   "outputs": [],
   "source": [
    "import pandas as pd\n",
    "import numpy as np\n",
    "import plotly.express as px"
   ]
  },
  {
   "cell_type": "code",
   "execution_count": 168,
   "metadata": {},
   "outputs": [],
   "source": [
    "X_train = pd.read_csv(r\"C:\\Users\\user\\Desktop\\daniel\\DATA SCIENCE\\HENRY\\HENRY BOOTCAMP\\HACKATON\\Hackathon\\Housing Dreams\\house_train_raw.csv\")\n",
    "X_test = pd.read_csv(r\"C:\\Users\\user\\Desktop\\daniel\\DATA SCIENCE\\HENRY\\HENRY BOOTCAMP\\HACKATON\\Hackathon\\Housing Dreams\\houses_test_raw.csv\")\n"
   ]
  },
  {
   "cell_type": "code",
   "execution_count": 169,
   "metadata": {},
   "outputs": [
    {
     "name": "stdout",
     "output_type": "stream",
     "text": [
      "(1460, 81) (1459, 80)\n"
     ]
    }
   ],
   "source": [
    "print(X_train.shape,X_test.shape)"
   ]
  },
  {
   "cell_type": "code",
   "execution_count": 170,
   "metadata": {},
   "outputs": [
    {
     "data": {
      "text/plain": [
       "LotFrontage      259\n",
       "Alley           1369\n",
       "MasVnrType         8\n",
       "MasVnrArea         8\n",
       "BsmtQual          37\n",
       "BsmtCond          37\n",
       "BsmtExposure      38\n",
       "BsmtFinType1      37\n",
       "BsmtFinType2      38\n",
       "Electrical         1\n",
       "FireplaceQu      690\n",
       "GarageType        81\n",
       "GarageYrBlt       81\n",
       "GarageFinish      81\n",
       "GarageQual        81\n",
       "GarageCond        81\n",
       "PoolQC          1453\n",
       "Fence           1179\n",
       "MiscFeature     1406\n",
       "dtype: int64"
      ]
     },
     "execution_count": 170,
     "metadata": {},
     "output_type": "execute_result"
    }
   ],
   "source": [
    "X_train.isnull().sum()[X_train.isnull().sum() > 0]\n",
    "#No hay ningun valor NULO en la columna target \"SalePrice\", asi que no le hacemos nada mas"
   ]
  },
  {
   "cell_type": "code",
   "execution_count": 171,
   "metadata": {},
   "outputs": [
    {
     "data": {
      "text/plain": [
       "['Alley', 'FireplaceQu', 'PoolQC', 'Fence', 'MiscFeature']"
      ]
     },
     "execution_count": 171,
     "metadata": {},
     "output_type": "execute_result"
    }
   ],
   "source": [
    "cols_with_high_nan = [col for col in X_train.columns if X_train[col].isnull().sum() > 500]\n",
    "cols_with_high_nan"
   ]
  },
  {
   "cell_type": "markdown",
   "metadata": {},
   "source": [
    "## Imputacion de valores faltantes en los campos con mas valores nulos:"
   ]
  },
  {
   "cell_type": "code",
   "execution_count": 172,
   "metadata": {},
   "outputs": [],
   "source": [
    "#NA en PoolQC significa que la casa no tiene piscina, eso explica la gran cantidad de valores faltantes:\n",
    "X_train.loc[X_train[\"PoolQC\"].isnull(), \"PoolQC\"] = \"None\"\n",
    "X_test.loc[X_test[\"PoolQC\"].isnull(), \"PoolQC\"] = \"None\""
   ]
  },
  {
   "cell_type": "code",
   "execution_count": 173,
   "metadata": {},
   "outputs": [],
   "source": [
    "#Ahora revisaremos el campo MiscFeature\n",
    "#Revisando encontramos que este campo cuando tiene valores nulos significa que la casa no tiene caracteristicas distintas\n",
    "X_train.loc[X_train[\"MiscFeature\"].isnull(), \"MiscFeature\"] = \"None\"\n",
    "X_test.loc[X_test[\"MiscFeature\"].isnull(), \"MiscFeature\"] = \"None\""
   ]
  },
  {
   "cell_type": "code",
   "execution_count": 174,
   "metadata": {},
   "outputs": [],
   "source": [
    "#Ahora revisaremos el campo Alley\n",
    "#Revisando encontramos que en este campo los valores nulos representan una casa sin acceso por callejon, asi que seteamos el valor \"None\"\n",
    "X_train.loc[X_train[\"Alley\"].isnull(), \"Alley\"] = \"None\"\n",
    "X_test.loc[X_test[\"Alley\"].isnull(), \"Alley\"] = \"None\""
   ]
  },
  {
   "cell_type": "code",
   "execution_count": 175,
   "metadata": {},
   "outputs": [],
   "source": [
    "#Ahora, al investigar la columna Fence, comprobamos que cuando hay valores nulos, significa que la casa no tiene Valla. Asi que arreglamos esto\n",
    "X_train.loc[X_train[\"Fence\"].isnull(), \"Fence\"] = \"No Fence\"\n",
    "X_test.loc[X_test[\"Fence\"].isnull(), \"Fence\"] = \"No Fence\""
   ]
  },
  {
   "cell_type": "code",
   "execution_count": 176,
   "metadata": {},
   "outputs": [],
   "source": [
    "#Ahora, al investigar la columna FireplaceQu, comprobamos que cuando hay valores nulos, significa que la casa no tiene Chimenea. Asi que arreglamos esto\n",
    "X_train.loc[X_train[\"FireplaceQu\"].isnull(), \"FireplaceQu\"] = \"No Fireplace\"\n",
    "X_test.loc[X_test[\"FireplaceQu\"].isnull(), \"FireplaceQu\"] = \"No Fireplace\""
   ]
  },
  {
   "cell_type": "markdown",
   "metadata": {},
   "source": [
    "#Investigando LotFrontage, no se tiene una razon especifica por la cual falten valores en este campo, asi que idearemos un metodo para imputar sus valores faltantes\n"
   ]
  },
  {
   "cell_type": "code",
   "execution_count": 177,
   "metadata": {},
   "outputs": [
    {
     "data": {
      "application/vnd.plotly.v1+json": {
       "config": {
        "plotlyServerURL": "https://plot.ly"
       },
       "data": [
        {
         "alignmentgroup": "True",
         "hovertemplate": "LotFrontage=%{y}<extra></extra>",
         "legendgroup": "",
         "marker": {
          "color": "#636efa"
         },
         "name": "",
         "notched": false,
         "offsetgroup": "",
         "orientation": "v",
         "showlegend": false,
         "type": "box",
         "x0": " ",
         "xaxis": "x",
         "y": [
          65,
          80,
          68,
          60,
          84,
          85,
          75,
          null,
          51,
          50,
          70,
          85,
          null,
          91,
          null,
          51,
          null,
          72,
          66,
          70,
          101,
          57,
          75,
          44,
          null,
          110,
          60,
          98,
          47,
          60,
          50,
          null,
          85,
          70,
          60,
          108,
          112,
          74,
          68,
          65,
          84,
          115,
          null,
          null,
          70,
          61,
          48,
          84,
          33,
          66,
          null,
          52,
          110,
          68,
          60,
          100,
          24,
          89,
          66,
          60,
          63,
          60,
          44,
          50,
          null,
          76,
          null,
          72,
          47,
          81,
          95,
          69,
          74,
          85,
          60,
          21,
          null,
          50,
          72,
          60,
          100,
          32,
          78,
          80,
          null,
          121,
          122,
          40,
          105,
          60,
          60,
          85,
          80,
          60,
          69,
          null,
          78,
          73,
          85,
          77,
          null,
          77,
          64,
          94,
          null,
          75,
          60,
          50,
          85,
          105,
          75,
          null,
          77,
          null,
          61,
          34,
          null,
          74,
          90,
          65,
          null,
          50,
          75,
          55,
          48,
          60,
          null,
          55,
          69,
          69,
          88,
          null,
          75,
          null,
          78,
          80,
          null,
          82,
          73,
          65,
          70,
          78,
          71,
          78,
          70,
          24,
          51,
          null,
          63,
          null,
          120,
          107,
          null,
          null,
          84,
          60,
          60,
          92,
          100,
          134,
          null,
          110,
          95,
          55,
          40,
          62,
          null,
          86,
          62,
          null,
          null,
          141,
          44,
          80,
          47,
          84,
          97,
          null,
          63,
          60,
          null,
          54,
          60,
          63,
          92,
          90,
          null,
          60,
          64,
          41,
          70,
          null,
          68,
          24,
          60,
          24,
          79,
          174,
          92,
          76,
          80,
          75,
          50,
          null,
          50,
          99,
          40,
          null,
          null,
          75,
          67,
          83,
          72,
          43,
          null,
          72,
          65,
          57,
          null,
          43,
          73,
          null,
          85,
          70,
          103,
          21,
          82,
          21,
          70,
          43,
          73,
          174,
          21,
          75,
          null,
          21,
          65,
          null,
          93,
          52,
          75,
          40,
          63,
          75,
          null,
          80,
          69,
          75,
          72,
          null,
          55,
          44,
          65,
          85,
          70,
          66,
          64,
          68,
          80,
          70,
          120,
          69,
          88,
          50,
          30,
          78,
          70,
          60,
          71,
          null,
          84,
          73,
          92,
          80,
          76,
          55,
          129,
          140,
          107,
          83,
          82,
          60,
          34,
          74,
          50,
          35,
          77,
          null,
          null,
          60,
          120,
          55,
          60,
          null,
          80,
          37,
          75,
          66,
          90,
          80,
          90,
          66,
          118,
          70,
          87,
          80,
          116,
          null,
          null,
          90,
          null,
          50,
          65,
          150,
          60,
          71,
          94,
          75,
          90,
          null,
          111,
          99,
          86,
          49,
          96,
          50,
          32,
          80,
          null,
          60,
          null,
          70,
          85,
          59,
          59,
          null,
          86,
          70,
          91,
          66,
          85,
          60,
          null,
          63,
          36,
          65,
          null,
          null,
          36,
          56,
          68,
          null,
          60,
          60,
          60,
          105,
          null,
          44,
          92,
          78,
          null,
          null,
          64,
          21,
          null,
          59,
          null,
          101,
          78,
          null,
          null,
          80,
          50,
          79,
          65,
          null,
          57,
          102,
          88,
          60,
          50,
          60,
          79,
          60,
          null,
          43,
          58,
          72,
          93,
          96,
          50,
          71,
          null,
          null,
          60,
          68,
          60,
          69,
          60,
          65,
          38,
          65,
          60,
          93,
          null,
          null,
          51,
          63,
          109,
          85,
          68,
          100,
          null,
          56,
          59,
          73,
          74,
          86,
          60,
          65,
          78,
          null,
          100,
          80,
          72,
          60,
          null,
          77,
          64,
          130,
          21,
          60,
          24,
          100,
          21,
          43,
          40,
          50,
          40,
          67,
          105,
          92,
          52,
          53,
          70,
          73,
          137,
          null,
          50,
          50,
          70,
          62,
          null,
          75,
          63,
          80,
          34,
          null,
          null,
          null,
          75,
          60,
          60,
          74,
          60,
          null,
          85,
          79,
          98,
          76,
          null,
          92,
          35,
          110,
          41,
          80,
          75,
          105,
          79,
          50,
          98,
          72,
          50,
          32,
          null,
          80,
          79,
          70,
          60,
          21,
          null,
          79,
          105,
          70,
          50,
          60,
          null,
          60,
          65,
          70,
          21,
          75,
          70,
          100,
          24,
          60,
          80,
          75,
          60,
          80,
          75,
          40,
          70,
          71,
          55,
          94,
          null,
          79,
          null,
          53,
          60,
          90,
          50,
          130,
          95,
          62,
          70,
          67,
          58,
          null,
          85,
          60,
          60,
          50,
          74,
          70,
          57,
          null,
          null,
          null,
          85,
          null,
          78,
          34,
          58,
          null,
          70,
          54,
          49,
          75,
          53,
          50,
          87,
          67,
          85,
          58,
          69,
          60,
          57,
          null,
          null,
          77,
          63,
          66,
          null,
          66,
          77,
          70,
          79,
          null,
          74,
          60,
          83,
          76,
          70,
          80,
          52,
          96,
          34,
          81,
          null,
          98,
          81,
          75,
          51,
          88,
          55,
          74,
          65,
          50,
          64,
          97,
          60,
          null,
          88,
          69,
          60,
          53,
          80,
          24,
          74,
          50,
          80,
          30,
          88,
          85,
          82,
          78,
          78,
          61,
          null,
          null,
          null,
          70,
          21,
          80,
          null,
          59,
          90,
          85,
          45,
          90,
          71,
          null,
          80,
          87,
          null,
          80,
          70,
          82,
          50,
          34,
          85,
          80,
          64,
          60,
          51,
          50,
          67,
          53,
          62,
          null,
          75,
          80,
          85,
          null,
          60,
          85,
          70,
          21,
          65,
          60,
          70,
          60,
          91,
          21,
          72,
          60,
          78,
          75,
          null,
          52,
          120,
          90,
          49,
          106,
          null,
          65,
          null,
          80,
          64,
          54,
          null,
          110,
          80,
          24,
          60,
          52,
          80,
          null,
          50,
          55,
          null,
          90,
          58,
          null,
          84,
          null,
          60,
          61,
          null,
          104,
          42,
          60,
          51,
          54,
          50,
          57,
          65,
          59,
          85,
          80,
          82,
          76,
          70,
          70,
          null,
          48,
          65,
          null,
          56,
          66,
          40,
          60,
          null,
          78,
          60,
          80,
          96,
          69,
          null,
          null,
          70,
          60,
          86,
          60,
          null,
          64,
          85,
          52,
          39,
          73,
          75,
          80,
          null,
          60,
          60,
          72,
          60,
          65,
          60,
          65,
          65,
          70,
          41,
          null,
          null,
          65,
          59,
          50,
          55,
          null,
          79,
          80,
          61,
          34,
          68,
          null,
          24,
          65,
          70,
          60,
          72,
          82,
          30,
          75,
          80,
          75,
          70,
          47,
          null,
          67,
          94,
          70,
          110,
          32,
          86,
          100,
          60,
          78,
          63,
          65,
          67,
          null,
          35,
          null,
          60,
          76,
          50,
          null,
          43,
          null,
          92,
          76,
          null,
          70,
          71,
          57,
          104,
          60,
          79,
          40,
          63,
          107,
          75,
          91,
          75,
          144,
          85,
          90,
          78,
          null,
          66,
          75,
          45,
          48,
          null,
          null,
          80,
          44,
          72,
          60,
          null,
          60,
          81,
          114,
          50,
          65,
          null,
          24,
          80,
          30,
          44,
          100,
          75,
          60,
          90,
          21,
          75,
          70,
          null,
          60,
          82,
          80,
          100,
          null,
          75,
          36,
          75,
          80,
          36,
          null,
          53,
          null,
          102,
          null,
          null,
          65,
          80,
          null,
          55,
          75,
          81,
          70,
          72,
          null,
          67,
          85,
          null,
          80,
          60,
          70,
          74,
          60,
          52,
          75,
          94,
          74,
          88,
          null,
          60,
          44,
          null,
          60,
          65,
          50,
          70,
          59,
          95,
          128,
          60,
          70,
          70,
          null,
          64,
          71,
          50,
          64,
          100,
          65,
          null,
          64,
          63,
          50,
          null,
          80,
          116,
          86,
          null,
          149,
          80,
          null,
          51,
          82,
          30,
          21,
          50,
          null,
          103,
          87,
          70,
          67,
          65,
          50,
          79,
          null,
          93,
          null,
          null,
          null,
          73,
          70,
          84,
          63,
          313,
          52,
          67,
          75,
          73,
          null,
          55,
          null,
          42,
          100,
          null,
          98,
          70,
          85,
          65,
          78,
          60,
          60,
          60,
          null,
          35,
          82,
          24,
          70,
          65,
          24,
          50,
          null,
          24,
          122,
          80,
          65,
          130,
          null,
          50,
          75,
          60,
          36,
          55,
          95,
          60,
          null,
          51,
          35,
          68,
          80,
          null,
          98,
          43,
          null,
          75,
          68,
          59,
          83,
          null,
          65,
          82,
          121,
          80,
          68,
          96,
          51,
          null,
          null,
          60,
          64,
          74,
          60,
          75,
          null,
          43,
          65,
          null,
          21,
          43,
          60,
          115,
          75,
          55,
          60,
          60,
          70,
          73,
          null,
          null,
          43,
          60,
          64,
          52,
          43,
          null,
          70,
          73,
          71,
          79,
          21,
          null,
          102,
          null,
          null,
          50,
          null,
          89,
          null,
          21,
          21,
          88,
          null,
          34,
          86,
          80,
          null,
          85,
          57,
          100,
          60,
          73,
          103,
          100,
          68,
          90,
          104,
          43,
          null,
          96,
          null,
          41,
          120,
          85,
          50,
          null,
          80,
          59,
          80,
          42,
          60,
          72,
          78,
          50,
          75,
          74,
          75,
          60,
          null,
          37,
          65,
          80,
          75,
          70,
          80,
          null,
          73,
          null,
          85,
          24,
          37,
          60,
          24,
          60,
          71,
          74,
          78,
          60,
          null,
          50,
          82,
          60,
          61,
          70,
          79,
          24,
          98,
          114,
          168,
          null,
          107,
          null,
          80,
          73,
          66,
          90,
          93,
          null,
          57,
          85,
          70,
          59,
          84,
          null,
          50,
          null,
          60,
          53,
          182,
          59,
          60,
          65,
          63,
          90,
          80,
          57,
          60,
          80,
          54,
          null,
          98,
          60,
          null,
          77,
          null,
          60,
          52,
          null,
          75,
          null,
          50,
          57,
          134,
          90,
          null,
          null,
          90,
          85,
          34,
          92,
          76,
          24,
          null,
          109,
          60,
          null,
          79,
          64,
          58,
          120,
          118,
          76,
          76,
          35,
          138,
          80,
          85,
          37,
          null,
          54,
          77,
          null,
          64,
          160,
          60,
          50,
          60,
          107,
          89,
          68,
          60,
          null,
          24,
          60,
          null,
          80,
          51,
          58,
          65,
          70,
          75,
          71,
          80,
          50,
          75,
          78,
          90,
          null,
          70,
          70,
          85,
          70,
          152,
          50,
          null,
          69,
          99,
          68,
          72,
          52,
          21,
          66,
          55,
          78,
          89,
          60,
          65,
          86,
          72,
          65,
          70,
          null,
          70,
          70,
          null,
          55,
          96,
          36,
          41,
          63,
          64,
          65,
          83,
          85,
          107,
          null,
          78,
          65,
          null,
          60,
          60,
          93,
          null,
          62,
          null,
          60,
          52,
          91,
          56,
          59,
          65,
          null,
          80,
          null,
          60,
          34,
          35,
          60,
          89,
          null,
          78,
          null,
          null,
          null,
          124,
          53,
          95,
          null,
          null,
          75,
          60,
          67,
          50,
          61,
          94,
          50,
          50,
          null,
          null,
          40,
          86,
          null,
          21,
          60,
          78,
          60,
          70,
          80,
          35,
          313,
          75,
          null,
          null,
          92,
          73,
          32,
          108,
          48,
          60,
          100,
          null,
          100,
          68,
          null,
          108,
          60,
          85,
          61,
          47,
          null,
          75,
          70,
          null,
          107,
          50,
          75,
          40,
          70,
          60,
          60,
          63,
          85,
          55,
          67,
          60,
          24,
          80,
          87,
          153,
          95,
          120,
          70,
          66,
          null,
          57,
          85,
          50,
          null,
          93,
          null,
          50,
          91,
          70,
          50,
          56,
          null,
          102,
          null,
          null,
          null,
          129,
          51,
          124,
          null,
          73,
          30,
          null,
          68,
          41,
          null,
          48,
          90,
          80,
          75,
          null,
          85,
          89,
          52,
          60,
          21,
          73,
          45,
          null,
          60,
          null,
          60,
          40,
          80,
          60,
          42,
          60,
          70,
          65,
          68,
          60,
          53,
          88,
          null,
          51,
          60,
          51,
          50,
          62,
          64,
          49,
          60,
          44,
          70,
          null,
          60,
          46,
          79,
          80,
          60,
          88,
          64,
          51,
          60,
          null,
          71,
          null,
          90,
          53,
          37,
          null,
          null,
          80,
          81,
          60,
          60,
          null,
          60,
          null,
          60,
          93,
          80,
          80,
          60,
          96,
          90,
          80,
          79,
          null,
          85,
          null,
          63,
          70,
          null,
          80,
          70,
          21,
          60,
          78,
          35,
          90,
          62,
          62,
          85,
          66,
          68,
          75
         ],
         "y0": " ",
         "yaxis": "y"
        }
       ],
       "layout": {
        "boxmode": "group",
        "legend": {
         "tracegroupgap": 0
        },
        "margin": {
         "t": 60
        },
        "template": {
         "data": {
          "bar": [
           {
            "error_x": {
             "color": "#2a3f5f"
            },
            "error_y": {
             "color": "#2a3f5f"
            },
            "marker": {
             "line": {
              "color": "#E5ECF6",
              "width": 0.5
             },
             "pattern": {
              "fillmode": "overlay",
              "size": 10,
              "solidity": 0.2
             }
            },
            "type": "bar"
           }
          ],
          "barpolar": [
           {
            "marker": {
             "line": {
              "color": "#E5ECF6",
              "width": 0.5
             },
             "pattern": {
              "fillmode": "overlay",
              "size": 10,
              "solidity": 0.2
             }
            },
            "type": "barpolar"
           }
          ],
          "carpet": [
           {
            "aaxis": {
             "endlinecolor": "#2a3f5f",
             "gridcolor": "white",
             "linecolor": "white",
             "minorgridcolor": "white",
             "startlinecolor": "#2a3f5f"
            },
            "baxis": {
             "endlinecolor": "#2a3f5f",
             "gridcolor": "white",
             "linecolor": "white",
             "minorgridcolor": "white",
             "startlinecolor": "#2a3f5f"
            },
            "type": "carpet"
           }
          ],
          "choropleth": [
           {
            "colorbar": {
             "outlinewidth": 0,
             "ticks": ""
            },
            "type": "choropleth"
           }
          ],
          "contour": [
           {
            "colorbar": {
             "outlinewidth": 0,
             "ticks": ""
            },
            "colorscale": [
             [
              0,
              "#0d0887"
             ],
             [
              0.1111111111111111,
              "#46039f"
             ],
             [
              0.2222222222222222,
              "#7201a8"
             ],
             [
              0.3333333333333333,
              "#9c179e"
             ],
             [
              0.4444444444444444,
              "#bd3786"
             ],
             [
              0.5555555555555556,
              "#d8576b"
             ],
             [
              0.6666666666666666,
              "#ed7953"
             ],
             [
              0.7777777777777778,
              "#fb9f3a"
             ],
             [
              0.8888888888888888,
              "#fdca26"
             ],
             [
              1,
              "#f0f921"
             ]
            ],
            "type": "contour"
           }
          ],
          "contourcarpet": [
           {
            "colorbar": {
             "outlinewidth": 0,
             "ticks": ""
            },
            "type": "contourcarpet"
           }
          ],
          "heatmap": [
           {
            "colorbar": {
             "outlinewidth": 0,
             "ticks": ""
            },
            "colorscale": [
             [
              0,
              "#0d0887"
             ],
             [
              0.1111111111111111,
              "#46039f"
             ],
             [
              0.2222222222222222,
              "#7201a8"
             ],
             [
              0.3333333333333333,
              "#9c179e"
             ],
             [
              0.4444444444444444,
              "#bd3786"
             ],
             [
              0.5555555555555556,
              "#d8576b"
             ],
             [
              0.6666666666666666,
              "#ed7953"
             ],
             [
              0.7777777777777778,
              "#fb9f3a"
             ],
             [
              0.8888888888888888,
              "#fdca26"
             ],
             [
              1,
              "#f0f921"
             ]
            ],
            "type": "heatmap"
           }
          ],
          "heatmapgl": [
           {
            "colorbar": {
             "outlinewidth": 0,
             "ticks": ""
            },
            "colorscale": [
             [
              0,
              "#0d0887"
             ],
             [
              0.1111111111111111,
              "#46039f"
             ],
             [
              0.2222222222222222,
              "#7201a8"
             ],
             [
              0.3333333333333333,
              "#9c179e"
             ],
             [
              0.4444444444444444,
              "#bd3786"
             ],
             [
              0.5555555555555556,
              "#d8576b"
             ],
             [
              0.6666666666666666,
              "#ed7953"
             ],
             [
              0.7777777777777778,
              "#fb9f3a"
             ],
             [
              0.8888888888888888,
              "#fdca26"
             ],
             [
              1,
              "#f0f921"
             ]
            ],
            "type": "heatmapgl"
           }
          ],
          "histogram": [
           {
            "marker": {
             "pattern": {
              "fillmode": "overlay",
              "size": 10,
              "solidity": 0.2
             }
            },
            "type": "histogram"
           }
          ],
          "histogram2d": [
           {
            "colorbar": {
             "outlinewidth": 0,
             "ticks": ""
            },
            "colorscale": [
             [
              0,
              "#0d0887"
             ],
             [
              0.1111111111111111,
              "#46039f"
             ],
             [
              0.2222222222222222,
              "#7201a8"
             ],
             [
              0.3333333333333333,
              "#9c179e"
             ],
             [
              0.4444444444444444,
              "#bd3786"
             ],
             [
              0.5555555555555556,
              "#d8576b"
             ],
             [
              0.6666666666666666,
              "#ed7953"
             ],
             [
              0.7777777777777778,
              "#fb9f3a"
             ],
             [
              0.8888888888888888,
              "#fdca26"
             ],
             [
              1,
              "#f0f921"
             ]
            ],
            "type": "histogram2d"
           }
          ],
          "histogram2dcontour": [
           {
            "colorbar": {
             "outlinewidth": 0,
             "ticks": ""
            },
            "colorscale": [
             [
              0,
              "#0d0887"
             ],
             [
              0.1111111111111111,
              "#46039f"
             ],
             [
              0.2222222222222222,
              "#7201a8"
             ],
             [
              0.3333333333333333,
              "#9c179e"
             ],
             [
              0.4444444444444444,
              "#bd3786"
             ],
             [
              0.5555555555555556,
              "#d8576b"
             ],
             [
              0.6666666666666666,
              "#ed7953"
             ],
             [
              0.7777777777777778,
              "#fb9f3a"
             ],
             [
              0.8888888888888888,
              "#fdca26"
             ],
             [
              1,
              "#f0f921"
             ]
            ],
            "type": "histogram2dcontour"
           }
          ],
          "mesh3d": [
           {
            "colorbar": {
             "outlinewidth": 0,
             "ticks": ""
            },
            "type": "mesh3d"
           }
          ],
          "parcoords": [
           {
            "line": {
             "colorbar": {
              "outlinewidth": 0,
              "ticks": ""
             }
            },
            "type": "parcoords"
           }
          ],
          "pie": [
           {
            "automargin": true,
            "type": "pie"
           }
          ],
          "scatter": [
           {
            "marker": {
             "colorbar": {
              "outlinewidth": 0,
              "ticks": ""
             }
            },
            "type": "scatter"
           }
          ],
          "scatter3d": [
           {
            "line": {
             "colorbar": {
              "outlinewidth": 0,
              "ticks": ""
             }
            },
            "marker": {
             "colorbar": {
              "outlinewidth": 0,
              "ticks": ""
             }
            },
            "type": "scatter3d"
           }
          ],
          "scattercarpet": [
           {
            "marker": {
             "colorbar": {
              "outlinewidth": 0,
              "ticks": ""
             }
            },
            "type": "scattercarpet"
           }
          ],
          "scattergeo": [
           {
            "marker": {
             "colorbar": {
              "outlinewidth": 0,
              "ticks": ""
             }
            },
            "type": "scattergeo"
           }
          ],
          "scattergl": [
           {
            "marker": {
             "colorbar": {
              "outlinewidth": 0,
              "ticks": ""
             }
            },
            "type": "scattergl"
           }
          ],
          "scattermapbox": [
           {
            "marker": {
             "colorbar": {
              "outlinewidth": 0,
              "ticks": ""
             }
            },
            "type": "scattermapbox"
           }
          ],
          "scatterpolar": [
           {
            "marker": {
             "colorbar": {
              "outlinewidth": 0,
              "ticks": ""
             }
            },
            "type": "scatterpolar"
           }
          ],
          "scatterpolargl": [
           {
            "marker": {
             "colorbar": {
              "outlinewidth": 0,
              "ticks": ""
             }
            },
            "type": "scatterpolargl"
           }
          ],
          "scatterternary": [
           {
            "marker": {
             "colorbar": {
              "outlinewidth": 0,
              "ticks": ""
             }
            },
            "type": "scatterternary"
           }
          ],
          "surface": [
           {
            "colorbar": {
             "outlinewidth": 0,
             "ticks": ""
            },
            "colorscale": [
             [
              0,
              "#0d0887"
             ],
             [
              0.1111111111111111,
              "#46039f"
             ],
             [
              0.2222222222222222,
              "#7201a8"
             ],
             [
              0.3333333333333333,
              "#9c179e"
             ],
             [
              0.4444444444444444,
              "#bd3786"
             ],
             [
              0.5555555555555556,
              "#d8576b"
             ],
             [
              0.6666666666666666,
              "#ed7953"
             ],
             [
              0.7777777777777778,
              "#fb9f3a"
             ],
             [
              0.8888888888888888,
              "#fdca26"
             ],
             [
              1,
              "#f0f921"
             ]
            ],
            "type": "surface"
           }
          ],
          "table": [
           {
            "cells": {
             "fill": {
              "color": "#EBF0F8"
             },
             "line": {
              "color": "white"
             }
            },
            "header": {
             "fill": {
              "color": "#C8D4E3"
             },
             "line": {
              "color": "white"
             }
            },
            "type": "table"
           }
          ]
         },
         "layout": {
          "annotationdefaults": {
           "arrowcolor": "#2a3f5f",
           "arrowhead": 0,
           "arrowwidth": 1
          },
          "autotypenumbers": "strict",
          "coloraxis": {
           "colorbar": {
            "outlinewidth": 0,
            "ticks": ""
           }
          },
          "colorscale": {
           "diverging": [
            [
             0,
             "#8e0152"
            ],
            [
             0.1,
             "#c51b7d"
            ],
            [
             0.2,
             "#de77ae"
            ],
            [
             0.3,
             "#f1b6da"
            ],
            [
             0.4,
             "#fde0ef"
            ],
            [
             0.5,
             "#f7f7f7"
            ],
            [
             0.6,
             "#e6f5d0"
            ],
            [
             0.7,
             "#b8e186"
            ],
            [
             0.8,
             "#7fbc41"
            ],
            [
             0.9,
             "#4d9221"
            ],
            [
             1,
             "#276419"
            ]
           ],
           "sequential": [
            [
             0,
             "#0d0887"
            ],
            [
             0.1111111111111111,
             "#46039f"
            ],
            [
             0.2222222222222222,
             "#7201a8"
            ],
            [
             0.3333333333333333,
             "#9c179e"
            ],
            [
             0.4444444444444444,
             "#bd3786"
            ],
            [
             0.5555555555555556,
             "#d8576b"
            ],
            [
             0.6666666666666666,
             "#ed7953"
            ],
            [
             0.7777777777777778,
             "#fb9f3a"
            ],
            [
             0.8888888888888888,
             "#fdca26"
            ],
            [
             1,
             "#f0f921"
            ]
           ],
           "sequentialminus": [
            [
             0,
             "#0d0887"
            ],
            [
             0.1111111111111111,
             "#46039f"
            ],
            [
             0.2222222222222222,
             "#7201a8"
            ],
            [
             0.3333333333333333,
             "#9c179e"
            ],
            [
             0.4444444444444444,
             "#bd3786"
            ],
            [
             0.5555555555555556,
             "#d8576b"
            ],
            [
             0.6666666666666666,
             "#ed7953"
            ],
            [
             0.7777777777777778,
             "#fb9f3a"
            ],
            [
             0.8888888888888888,
             "#fdca26"
            ],
            [
             1,
             "#f0f921"
            ]
           ]
          },
          "colorway": [
           "#636efa",
           "#EF553B",
           "#00cc96",
           "#ab63fa",
           "#FFA15A",
           "#19d3f3",
           "#FF6692",
           "#B6E880",
           "#FF97FF",
           "#FECB52"
          ],
          "font": {
           "color": "#2a3f5f"
          },
          "geo": {
           "bgcolor": "white",
           "lakecolor": "white",
           "landcolor": "#E5ECF6",
           "showlakes": true,
           "showland": true,
           "subunitcolor": "white"
          },
          "hoverlabel": {
           "align": "left"
          },
          "hovermode": "closest",
          "mapbox": {
           "style": "light"
          },
          "paper_bgcolor": "white",
          "plot_bgcolor": "#E5ECF6",
          "polar": {
           "angularaxis": {
            "gridcolor": "white",
            "linecolor": "white",
            "ticks": ""
           },
           "bgcolor": "#E5ECF6",
           "radialaxis": {
            "gridcolor": "white",
            "linecolor": "white",
            "ticks": ""
           }
          },
          "scene": {
           "xaxis": {
            "backgroundcolor": "#E5ECF6",
            "gridcolor": "white",
            "gridwidth": 2,
            "linecolor": "white",
            "showbackground": true,
            "ticks": "",
            "zerolinecolor": "white"
           },
           "yaxis": {
            "backgroundcolor": "#E5ECF6",
            "gridcolor": "white",
            "gridwidth": 2,
            "linecolor": "white",
            "showbackground": true,
            "ticks": "",
            "zerolinecolor": "white"
           },
           "zaxis": {
            "backgroundcolor": "#E5ECF6",
            "gridcolor": "white",
            "gridwidth": 2,
            "linecolor": "white",
            "showbackground": true,
            "ticks": "",
            "zerolinecolor": "white"
           }
          },
          "shapedefaults": {
           "line": {
            "color": "#2a3f5f"
           }
          },
          "ternary": {
           "aaxis": {
            "gridcolor": "white",
            "linecolor": "white",
            "ticks": ""
           },
           "baxis": {
            "gridcolor": "white",
            "linecolor": "white",
            "ticks": ""
           },
           "bgcolor": "#E5ECF6",
           "caxis": {
            "gridcolor": "white",
            "linecolor": "white",
            "ticks": ""
           }
          },
          "title": {
           "x": 0.05
          },
          "xaxis": {
           "automargin": true,
           "gridcolor": "white",
           "linecolor": "white",
           "ticks": "",
           "title": {
            "standoff": 15
           },
           "zerolinecolor": "white",
           "zerolinewidth": 2
          },
          "yaxis": {
           "automargin": true,
           "gridcolor": "white",
           "linecolor": "white",
           "ticks": "",
           "title": {
            "standoff": 15
           },
           "zerolinecolor": "white",
           "zerolinewidth": 2
          }
         }
        },
        "xaxis": {
         "anchor": "y",
         "domain": [
          0,
          1
         ]
        },
        "yaxis": {
         "anchor": "x",
         "domain": [
          0,
          1
         ],
         "title": {
          "text": "LotFrontage"
         }
        }
       }
      }
     },
     "metadata": {},
     "output_type": "display_data"
    }
   ],
   "source": [
    "#Verificamos los outliers de LotFrontage:\n",
    "px.box(X_train,y=\"LotFrontage\")"
   ]
  },
  {
   "cell_type": "code",
   "execution_count": 178,
   "metadata": {},
   "outputs": [],
   "source": [
    "#LotFrontage tiene outliers por lo tanto me deshare de ellos para mi imputacion de valores nulos\n",
    "q3_, q1_ = np.nanpercentile(np.array(X_train.LotFrontage.values), [75,25])\n",
    "iqr_ = q3_-q1_\n",
    "h_outliers_, l_outliers_ = q3_+1.5*iqr_, q1_-1.5*iqr_"
   ]
  },
  {
   "cell_type": "code",
   "execution_count": 179,
   "metadata": {},
   "outputs": [
    {
     "data": {
      "application/vnd.plotly.v1+json": {
       "config": {
        "plotlyServerURL": "https://plot.ly"
       },
       "data": [
        {
         "alignmentgroup": "True",
         "hovertemplate": "Neighborhood=%{x}<br>LotFrontage=%{y}<extra></extra>",
         "legendgroup": "",
         "marker": {
          "color": "#636efa"
         },
         "name": "",
         "notched": false,
         "offsetgroup": "",
         "orientation": "v",
         "showlegend": false,
         "type": "box",
         "x": [
          "CollgCr",
          "Veenker",
          "CollgCr",
          "Crawfor",
          "NoRidge",
          "Mitchel",
          "Somerst",
          "OldTown",
          "BrkSide",
          "Sawyer",
          "NridgHt",
          "CollgCr",
          "BrkSide",
          "Sawyer",
          "SawyerW",
          "NAmes",
          "NridgHt",
          "IDOTRR",
          "CollgCr",
          "MeadowV",
          "NridgHt",
          "NAmes",
          "NridgHt",
          "NAmes",
          "BrkSide",
          "IDOTRR",
          "CollgCr",
          "NAmes",
          "NridgHt",
          "NridgHt",
          "NAmes",
          "NAmes",
          "Edwards",
          "NAmes",
          "NAmes",
          "NridgHt",
          "Mitchel",
          "Somerst",
          "OldTown",
          "Sawyer",
          "BrkSide",
          "IDOTRR",
          "Veenker",
          "NAmes",
          "NAmes",
          "CollgCr",
          "StoneBr",
          "CollgCr",
          "SawyerW",
          "IDOTRR",
          "NridgHt",
          "OldTown",
          "NridgHt",
          "CollgCr",
          "OldTown",
          "ClearCr",
          "NAmes",
          "Mitchel",
          "Gilbert",
          "NAmes",
          "OldTown",
          "BrkSide",
          "Sawyer",
          "OldTown",
          "NAmes",
          "Mitchel",
          "Somerst",
          "NAmes",
          "Somerst",
          "IDOTRR",
          "CollgCr",
          "NAmes",
          "NAmes",
          "Crawfor",
          "OldTown",
          "CollgCr",
          "CollgCr",
          "Edwards",
          "Edwards",
          "NAmes",
          "SawyerW",
          "SawyerW",
          "CollgCr",
          "Somerst",
          "OldTown",
          "OldTown",
          "IDOTRR",
          "NWAmes",
          "Edwards",
          "CollgCr",
          "Crawfor",
          "Somerst",
          "Edwards",
          "SawyerW",
          "CollgCr",
          "IDOTRR",
          "NAmes",
          "SawyerW",
          "NWAmes",
          "IDOTRR",
          "OldTown",
          "NAmes",
          "NAmes",
          "NAmes",
          "NAmes",
          "Sawyer",
          "NWAmes",
          "Mitchel",
          "CollgCr",
          "CollgCr",
          "NAmes",
          "CollgCr",
          "NAmes",
          "CollgCr",
          "Sawyer",
          "BrkSide",
          "SawyerW",
          "NridgHt",
          "OldTown",
          "Edwards",
          "NAmes",
          "Timber",
          "Somerst",
          "NridgHt",
          "NridgHt",
          "OldTown",
          "OldTown",
          "Edwards",
          "NridgHt",
          "Gilbert",
          "StoneBr",
          "NAmes",
          "Timber",
          "Edwards",
          "ClearCr",
          "StoneBr",
          "OldTown",
          "Crawfor",
          "Edwards",
          "OldTown",
          "BrkSide",
          "OldTown",
          "OldTown",
          "SawyerW",
          "StoneBr",
          "Crawfor",
          "CollgCr",
          "CollgCr",
          "Somerst",
          "OldTown",
          "NridgHt",
          "Edwards",
          "Mitchel",
          "OldTown",
          "OldTown",
          "Gilbert",
          "Sawyer",
          "NAmes",
          "Edwards",
          "Edwards",
          "Somerst",
          "CollgCr",
          "NAmes",
          "CollgCr",
          "OldTown",
          "Blmngtn",
          "CollgCr",
          "NWAmes",
          "NAmes",
          "NridgHt",
          "NoRidge",
          "Sawyer",
          "Blmngtn",
          "NAmes",
          "CollgCr",
          "CollgCr",
          "NridgHt",
          "Edwards",
          "Somerst",
          "OldTown",
          "OldTown",
          "SawyerW",
          "NWAmes",
          "OldTown",
          "NAmes",
          "CollgCr",
          "BrkSide",
          "Crawfor",
          "SawyerW",
          "NAmes",
          "NAmes",
          "Gilbert",
          "Somerst",
          "CollgCr",
          "CollgCr",
          "OldTown",
          "CollgCr",
          "Sawyer",
          "OldTown",
          "OldTown",
          "NWAmes",
          "Gilbert",
          "SWISU",
          "IDOTRR",
          "Somerst",
          "ClearCr",
          "NoRidge",
          "NAmes",
          "Mitchel",
          "BrkSide",
          "NridgHt",
          "ClearCr",
          "SawyerW",
          "Somerst",
          "NridgHt",
          "Somerst",
          "SawyerW",
          "Somerst",
          "NAmes",
          "BrkSide",
          "SWISU",
          "Edwards",
          "NAmes",
          "Mitchel",
          "IDOTRR",
          "Somerst",
          "NWAmes",
          "Crawfor",
          "Crawfor",
          "CollgCr",
          "CollgCr",
          "OldTown",
          "CollgCr",
          "NridgHt",
          "NAmes",
          "OldTown",
          "OldTown",
          "Gilbert",
          "NWAmes",
          "Somerst",
          "NoRidge",
          "NridgHt",
          "NridgHt",
          "SawyerW",
          "OldTown",
          "NAmes",
          "IDOTRR",
          "Veenker",
          "NAmes",
          "IDOTRR",
          "NAmes",
          "NridgHt",
          "NridgHt",
          "Gilbert",
          "StoneBr",
          "CollgCr",
          "NWAmes",
          "NAmes",
          "Timber",
          "SawyerW",
          "NridgHt",
          "MeadowV",
          "BrkSide",
          "NridgHt",
          "NridgHt",
          "NridgHt",
          "Edwards",
          "OldTown",
          "SWISU",
          "CollgCr",
          "MeadowV",
          "ClearCr",
          "NoRidge",
          "Edwards",
          "IDOTRR",
          "NAmes",
          "NAmes",
          "ClearCr",
          "SawyerW",
          "NAmes",
          "CollgCr",
          "CollgCr",
          "Somerst",
          "StoneBr",
          "Gilbert",
          "SWISU",
          "Somerst",
          "CollgCr",
          "SawyerW",
          "Blmngtn",
          "Edwards",
          "Edwards",
          "CollgCr",
          "NridgHt",
          "Edwards",
          "Mitchel",
          "OldTown",
          "Edwards",
          "CollgCr",
          "NAmes",
          "IDOTRR",
          "Somerst",
          "Veenker",
          "CollgCr",
          "Sawyer",
          "NoRidge",
          "SWISU",
          "Crawfor",
          "NridgHt",
          "Somerst",
          "Edwards",
          "Gilbert",
          "OldTown",
          "SawyerW",
          "Gilbert",
          "Sawyer",
          "Crawfor",
          "Edwards",
          "NAmes",
          "Mitchel",
          "Mitchel",
          "NoRidge",
          "NAmes",
          "OldTown",
          "NAmes",
          "CollgCr",
          "OldTown",
          "Gilbert",
          "CollgCr",
          "OldTown",
          "BrkSide",
          "Crawfor",
          "Edwards",
          "NridgHt",
          "Edwards",
          "BrkSide",
          "Blmngtn",
          "CollgCr",
          "Edwards",
          "IDOTRR",
          "OldTown",
          "OldTown",
          "ClearCr",
          "Somerst",
          "Mitchel",
          "NWAmes",
          "OldTown",
          "Somerst",
          "SWISU",
          "Sawyer",
          "Crawfor",
          "CollgCr",
          "NAmes",
          "NAmes",
          "NridgHt",
          "SawyerW",
          "NWAmes",
          "Edwards",
          "NridgHt",
          "StoneBr",
          "Sawyer",
          "CollgCr",
          "NridgHt",
          "CollgCr",
          "OldTown",
          "NridgHt",
          "NridgHt",
          "OldTown",
          "Mitchel",
          "NAmes",
          "NAmes",
          "NWAmes",
          "OldTown",
          "NAmes",
          "Gilbert",
          "NAmes",
          "OldTown",
          "IDOTRR",
          "BrkSide",
          "Sawyer",
          "NAmes",
          "Somerst",
          "Edwards",
          "Crawfor",
          "OldTown",
          "SawyerW",
          "Somerst",
          "OldTown",
          "NAmes",
          "NAmes",
          "NridgHt",
          "NAmes",
          "Mitchel",
          "Crawfor",
          "NridgHt",
          "NoRidge",
          "Crawfor",
          "OldTown",
          "NAmes",
          "BrkSide",
          "NoRidge",
          "Somerst",
          "NAmes",
          "NridgHt",
          "Edwards",
          "Timber",
          "BrkSide",
          "NAmes",
          "BrkSide",
          "Gilbert",
          "Edwards",
          "CollgCr",
          "Timber",
          "NWAmes",
          "NAmes",
          "Gilbert",
          "BrkSide",
          "Mitchel",
          "OldTown",
          "Somerst",
          "NPkVill",
          "OldTown",
          "NridgHt",
          "Edwards",
          "NridgHt",
          "BrkSide",
          "NAmes",
          "IDOTRR",
          "Gilbert",
          "Mitchel",
          "Edwards",
          "Edwards",
          "SWISU",
          "StoneBr",
          "NridgHt",
          "SawyerW",
          "NAmes",
          "NAmes",
          "Timber",
          "Gilbert",
          "NAmes",
          "NAmes",
          "SWISU",
          "Sawyer",
          "Somerst",
          "OldTown",
          "NridgHt",
          "Edwards",
          "OldTown",
          "BrkSide",
          "Timber",
          "BrkSide",
          "Sawyer",
          "ClearCr",
          "BrkSide",
          "CollgCr",
          "NridgHt",
          "Mitchel",
          "CollgCr",
          "StoneBr",
          "OldTown",
          "Blmngtn",
          "Crawfor",
          "NridgHt",
          "IDOTRR",
          "SawyerW",
          "Somerst",
          "CollgCr",
          "NAmes",
          "CollgCr",
          "Edwards",
          "Crawfor",
          "Sawyer",
          "Mitchel",
          "NAmes",
          "NAmes",
          "NridgHt",
          "Timber",
          "Edwards",
          "NWAmes",
          "Sawyer",
          "NWAmes",
          "NAmes",
          "NAmes",
          "NAmes",
          "NAmes",
          "OldTown",
          "NridgHt",
          "NWAmes",
          "NAmes",
          "OldTown",
          "SWISU",
          "BrkSide",
          "OldTown",
          "Edwards",
          "Blmngtn",
          "NridgHt",
          "NAmes",
          "NWAmes",
          "Somerst",
          "NAmes",
          "Edwards",
          "NAmes",
          "Somerst",
          "Edwards",
          "CollgCr",
          "IDOTRR",
          "NoRidge",
          "NAmes",
          "Crawfor",
          "NAmes",
          "Edwards",
          "NoRidge",
          "Edwards",
          "Somerst",
          "Gilbert",
          "SawyerW",
          "Crawfor",
          "CollgCr",
          "Edwards",
          "Crawfor",
          "NAmes",
          "OldTown",
          "OldTown",
          "StoneBr",
          "SawyerW",
          "SWISU",
          "CollgCr",
          "NoRidge",
          "Somerst",
          "StoneBr",
          "NridgHt",
          "NoRidge",
          "Timber",
          "OldTown",
          "BrkSide",
          "Timber",
          "BrkSide",
          "Edwards",
          "Sawyer",
          "Somerst",
          "Timber",
          "NWAmes",
          "StoneBr",
          "OldTown",
          "CollgCr",
          "IDOTRR",
          "NridgHt",
          "Gilbert",
          "BrkSide",
          "IDOTRR",
          "StoneBr",
          "BrkSide",
          "NWAmes",
          "OldTown",
          "NWAmes",
          "NoRidge",
          "CollgCr",
          "NAmes",
          "Edwards",
          "Edwards",
          "NAmes",
          "CollgCr",
          "NAmes",
          "IDOTRR",
          "StoneBr",
          "Timber",
          "CollgCr",
          "Sawyer",
          "OldTown",
          "NAmes",
          "Gilbert",
          "Edwards",
          "CollgCr",
          "OldTown",
          "Sawyer",
          "SawyerW",
          "Sawyer",
          "StoneBr",
          "OldTown",
          "NoRidge",
          "Edwards",
          "OldTown",
          "CollgCr",
          "NridgHt",
          "NAmes",
          "Somerst",
          "CollgCr",
          "NoRidge",
          "NAmes",
          "BrkSide",
          "Somerst",
          "NoRidge",
          "Veenker",
          "Somerst",
          "NWAmes",
          "Mitchel",
          "CollgCr",
          "StoneBr",
          "Edwards",
          "Edwards",
          "NAmes",
          "NridgHt",
          "Mitchel",
          "CollgCr",
          "Sawyer",
          "SawyerW",
          "Mitchel",
          "Gilbert",
          "SawyerW",
          "CollgCr",
          "OldTown",
          "OldTown",
          "SawyerW",
          "OldTown",
          "Blmngtn",
          "NoRidge",
          "Somerst",
          "SawyerW",
          "Sawyer",
          "NAmes",
          "NridgHt",
          "SWISU",
          "ClearCr",
          "IDOTRR",
          "CollgCr",
          "NridgHt",
          "NAmes",
          "Somerst",
          "NAmes",
          "NAmes",
          "OldTown",
          "NWAmes",
          "IDOTRR",
          "NAmes",
          "Edwards",
          "CollgCr",
          "ClearCr",
          "NridgHt",
          "CollgCr",
          "OldTown",
          "SWISU",
          "Somerst",
          "BrkSide",
          "SawyerW",
          "NAmes",
          "Somerst",
          "CollgCr",
          "NAmes",
          "NAmes",
          "Sawyer",
          "OldTown",
          "CollgCr",
          "Edwards",
          "OldTown",
          "NAmes",
          "NAmes",
          "OldTown",
          "SawyerW",
          "CollgCr",
          "ClearCr",
          "Veenker",
          "CollgCr",
          "Crawfor",
          "Sawyer",
          "Gilbert",
          "NWAmes",
          "Crawfor",
          "Sawyer",
          "SawyerW",
          "NAmes",
          "Somerst",
          "Timber",
          "Sawyer",
          "SawyerW",
          "NAmes",
          "CollgCr",
          "NAmes",
          "NAmes",
          "OldTown",
          "Somerst",
          "Mitchel",
          "NridgHt",
          "Sawyer",
          "Edwards",
          "Timber",
          "SWISU",
          "NAmes",
          "Somerst",
          "NAmes",
          "Edwards",
          "NAmes",
          "NAmes",
          "Sawyer",
          "Sawyer",
          "SawyerW",
          "NAmes",
          "IDOTRR",
          "SawyerW",
          "NridgHt",
          "Sawyer",
          "NAmes",
          "Gilbert",
          "Gilbert",
          "NAmes",
          "Crawfor",
          "NAmes",
          "BrkSide",
          "Crawfor",
          "Somerst",
          "IDOTRR",
          "SawyerW",
          "NAmes",
          "SawyerW",
          "Edwards",
          "Gilbert",
          "SawyerW",
          "NWAmes",
          "NridgHt",
          "Timber",
          "NAmes",
          "Somerst",
          "CollgCr",
          "BrkSide",
          "SawyerW",
          "Somerst",
          "CollgCr",
          "Mitchel",
          "Edwards",
          "Mitchel",
          "OldTown",
          "NAmes",
          "Timber",
          "CollgCr",
          "NWAmes",
          "NAmes",
          "SawyerW",
          "CollgCr",
          "Edwards",
          "Crawfor",
          "Sawyer",
          "CollgCr",
          "BrkSide",
          "Timber",
          "Gilbert",
          "OldTown",
          "NAmes",
          "NAmes",
          "NridgHt",
          "SawyerW",
          "Somerst",
          "BrkSide",
          "BrkSide",
          "Somerst",
          "Edwards",
          "Sawyer",
          "NoRidge",
          "Blmngtn",
          "Mitchel",
          "Edwards",
          "OldTown",
          "NridgHt",
          "Somerst",
          "NoRidge",
          "NAmes",
          "CollgCr",
          "NridgHt",
          "BrkSide",
          "IDOTRR",
          "CollgCr",
          "Edwards",
          "OldTown",
          "Somerst",
          "Blmngtn",
          "CollgCr",
          "Mitchel",
          "SWISU",
          "Edwards",
          "Crawfor",
          "OldTown",
          "NAmes",
          "NWAmes",
          "CollgCr",
          "Blmngtn",
          "Edwards",
          "CollgCr",
          "OldTown",
          "Blmngtn",
          "CollgCr",
          "NAmes",
          "Timber",
          "NAmes",
          "SWISU",
          "Crawfor",
          "Timber",
          "Sawyer",
          "NridgHt",
          "SawyerW",
          "NWAmes",
          "StoneBr",
          "CollgCr",
          "Mitchel",
          "Edwards",
          "Gilbert",
          "CollgCr",
          "NAmes",
          "Edwards",
          "CollgCr",
          "NWAmes",
          "NridgHt",
          "NridgHt",
          "StoneBr",
          "OldTown",
          "OldTown",
          "ClearCr",
          "Gilbert",
          "NAmes",
          "MeadowV",
          "NAmes",
          "NAmes",
          "NWAmes",
          "Edwards",
          "Edwards",
          "CollgCr",
          "Crawfor",
          "OldTown",
          "CollgCr",
          "CollgCr",
          "NWAmes",
          "Sawyer",
          "CollgCr",
          "NAmes",
          "SawyerW",
          "Somerst",
          "Somerst",
          "NAmes",
          "SWISU",
          "NAmes",
          "NAmes",
          "CollgCr",
          "IDOTRR",
          "BrkSide",
          "NWAmes",
          "SWISU",
          "NAmes",
          "NAmes",
          "NAmes",
          "NoRidge",
          "NridgHt",
          "NWAmes",
          "NAmes",
          "NAmes",
          "OldTown",
          "NridgHt",
          "Sawyer",
          "Sawyer",
          "NAmes",
          "IDOTRR",
          "CollgCr",
          "Edwards",
          "NAmes",
          "Blmngtn",
          "Gilbert",
          "OldTown",
          "SWISU",
          "Mitchel",
          "OldTown",
          "SawyerW",
          "Gilbert",
          "BrkSide",
          "NAmes",
          "Sawyer",
          "BrkSide",
          "NAmes",
          "CollgCr",
          "Edwards",
          "BrkSide",
          "Crawfor",
          "OldTown",
          "NAmes",
          "Crawfor",
          "Veenker",
          "NAmes",
          "NridgHt",
          "Somerst",
          "NWAmes",
          "Sawyer",
          "Sawyer",
          "NridgHt",
          "CollgCr",
          "Gilbert",
          "Mitchel",
          "NAmes",
          "Somerst",
          "Crawfor",
          "NoRidge",
          "Mitchel",
          "Crawfor",
          "Edwards",
          "Crawfor",
          "OldTown",
          "Timber",
          "Edwards",
          "OldTown",
          "NoRidge",
          "CollgCr",
          "Gilbert",
          "OldTown",
          "Sawyer",
          "Gilbert",
          "Gilbert",
          "OldTown",
          "CollgCr",
          "Sawyer",
          "NAmes",
          "CollgCr",
          "BrkSide",
          "CollgCr",
          "NWAmes",
          "SawyerW",
          "CollgCr",
          "NAmes",
          "Somerst",
          "SawyerW",
          "Edwards",
          "NAmes",
          "Sawyer",
          "Sawyer",
          "Somerst",
          "BrkSide",
          "NAmes",
          "Sawyer",
          "NAmes",
          "NAmes",
          "Gilbert",
          "NAmes",
          "Somerst",
          "NAmes",
          "NridgHt",
          "NAmes",
          "NAmes",
          "NAmes",
          "SWISU",
          "Crawfor",
          "NridgHt",
          "CollgCr",
          "SawyerW",
          "Timber",
          "CollgCr",
          "Somerst",
          "NWAmes",
          "NridgHt",
          "NWAmes",
          "Somerst",
          "OldTown",
          "NAmes",
          "NAmes",
          "Mitchel",
          "Edwards",
          "BrkSide",
          "NoRidge",
          "Edwards",
          "Gilbert",
          "NAmes",
          "NAmes",
          "BrkSide",
          "NAmes",
          "Somerst",
          "OldTown",
          "Timber",
          "NAmes",
          "Crawfor",
          "NAmes",
          "CollgCr",
          "IDOTRR",
          "CollgCr",
          "Timber",
          "CollgCr",
          "Mitchel",
          "SWISU",
          "BrkSide",
          "StoneBr",
          "NridgHt",
          "OldTown",
          "NWAmes",
          "Edwards",
          "NAmes",
          "NAmes",
          "Edwards",
          "NAmes",
          "NoRidge",
          "Somerst",
          "Edwards",
          "NridgHt",
          "NridgHt",
          "CollgCr",
          "OldTown",
          "Crawfor",
          "CollgCr",
          "NoRidge",
          "Edwards",
          "NAmes",
          "CollgCr",
          "Somerst",
          "Edwards",
          "NAmes",
          "NoRidge",
          "BrkSide",
          "Somerst",
          "IDOTRR",
          "Edwards",
          "Mitchel",
          "OldTown",
          "Gilbert",
          "Somerst",
          "CollgCr",
          "Edwards",
          "IDOTRR",
          "NWAmes",
          "NWAmes",
          "CollgCr",
          "NAmes",
          "SawyerW",
          "Crawfor",
          "CollgCr",
          "OldTown",
          "Timber",
          "OldTown",
          "NAmes",
          "NAmes",
          "BrkSide",
          "NoRidge",
          "NWAmes",
          "SWISU",
          "Gilbert",
          "Somerst",
          "CollgCr",
          "MeadowV",
          "CollgCr",
          "OldTown",
          "NAmes",
          "CollgCr",
          "Somerst",
          "Timber",
          "SWISU",
          "Edwards",
          "Timber",
          "Edwards",
          "OldTown",
          "Edwards",
          "IDOTRR",
          "NWAmes",
          "OldTown",
          "Gilbert",
          "BrkSide",
          "CollgCr",
          "NAmes",
          "NAmes",
          "OldTown",
          "Blmngtn",
          "Timber",
          "BrkSide",
          "NAmes",
          "SWISU",
          "BrkSide",
          "Gilbert",
          "CollgCr",
          "Somerst",
          "OldTown",
          "Crawfor",
          "CollgCr",
          "OldTown",
          "NWAmes",
          "CollgCr",
          "NAmes",
          "NAmes",
          "SawyerW",
          "BrkSide",
          "Blmngtn",
          "OldTown",
          "NAmes",
          "NWAmes",
          "NPkVill",
          "CollgCr",
          "NAmes",
          "NoRidge",
          "NAmes",
          "OldTown",
          "Gilbert",
          "OldTown",
          "Gilbert",
          "Mitchel",
          "NAmes",
          "NAmes",
          "NridgHt",
          "OldTown",
          "NWAmes",
          "Crawfor",
          "Somerst",
          "CollgCr",
          "Sawyer",
          "CollgCr",
          "Edwards",
          "NAmes",
          "Somerst",
          "Edwards",
          "Mitchel",
          "Somerst",
          "Gilbert",
          "NWAmes",
          "Crawfor",
          "NAmes",
          "Edwards"
         ],
         "x0": " ",
         "xaxis": "x",
         "y": [
          65,
          80,
          68,
          60,
          84,
          85,
          75,
          51,
          50,
          70,
          85,
          91,
          51,
          72,
          66,
          70,
          101,
          57,
          75,
          44,
          110,
          60,
          98,
          47,
          60,
          50,
          85,
          70,
          60,
          108,
          74,
          68,
          65,
          84,
          70,
          61,
          48,
          84,
          33,
          66,
          52,
          110,
          68,
          60,
          100,
          89,
          66,
          60,
          63,
          60,
          44,
          50,
          76,
          72,
          47,
          81,
          95,
          69,
          74,
          85,
          60,
          50,
          72,
          60,
          100,
          32,
          78,
          80,
          40,
          105,
          60,
          60,
          85,
          80,
          60,
          69,
          78,
          73,
          85,
          77,
          77,
          64,
          94,
          75,
          60,
          50,
          85,
          105,
          75,
          77,
          61,
          34,
          74,
          90,
          65,
          50,
          75,
          55,
          48,
          60,
          55,
          69,
          69,
          88,
          75,
          78,
          80,
          82,
          73,
          65,
          70,
          78,
          71,
          78,
          70,
          51,
          63,
          107,
          84,
          60,
          60,
          92,
          100,
          110,
          95,
          55,
          40,
          62,
          86,
          62,
          44,
          80,
          47,
          84,
          97,
          63,
          60,
          54,
          60,
          63,
          92,
          90,
          60,
          64,
          41,
          70,
          68,
          60,
          79,
          92,
          76,
          80,
          75,
          50,
          50,
          99,
          40,
          75,
          67,
          83,
          72,
          43,
          72,
          65,
          57,
          43,
          73,
          85,
          70,
          103,
          82,
          70,
          43,
          73,
          75,
          65,
          93,
          52,
          75,
          40,
          63,
          75,
          80,
          69,
          75,
          72,
          55,
          44,
          65,
          85,
          70,
          66,
          64,
          68,
          80,
          70,
          69,
          88,
          50,
          30,
          78,
          70,
          60,
          71,
          84,
          73,
          92,
          80,
          76,
          55,
          107,
          83,
          82,
          60,
          34,
          74,
          50,
          35,
          77,
          60,
          55,
          60,
          80,
          37,
          75,
          66,
          90,
          80,
          90,
          66,
          70,
          87,
          80,
          90,
          50,
          65,
          60,
          71,
          94,
          75,
          90,
          111,
          99,
          86,
          49,
          96,
          50,
          32,
          80,
          60,
          70,
          85,
          59,
          59,
          86,
          70,
          91,
          66,
          85,
          60,
          63,
          36,
          65,
          36,
          56,
          68,
          60,
          60,
          60,
          105,
          44,
          92,
          78,
          64,
          59,
          101,
          78,
          80,
          50,
          79,
          65,
          57,
          102,
          88,
          60,
          50,
          60,
          79,
          60,
          43,
          58,
          72,
          93,
          96,
          50,
          71,
          60,
          68,
          60,
          69,
          60,
          65,
          38,
          65,
          60,
          93,
          51,
          63,
          109,
          85,
          68,
          100,
          56,
          59,
          73,
          74,
          86,
          60,
          65,
          78,
          100,
          80,
          72,
          60,
          77,
          64,
          60,
          100,
          43,
          40,
          50,
          40,
          67,
          105,
          92,
          52,
          53,
          70,
          73,
          50,
          50,
          70,
          62,
          75,
          63,
          80,
          34,
          75,
          60,
          60,
          74,
          60,
          85,
          79,
          98,
          76,
          92,
          35,
          110,
          41,
          80,
          75,
          105,
          79,
          50,
          98,
          72,
          50,
          32,
          80,
          79,
          70,
          60,
          79,
          105,
          70,
          50,
          60,
          60,
          65,
          70,
          75,
          70,
          100,
          60,
          80,
          75,
          60,
          80,
          75,
          40,
          70,
          71,
          55,
          94,
          79,
          53,
          60,
          90,
          50,
          95,
          62,
          70,
          67,
          58,
          85,
          60,
          60,
          50,
          74,
          70,
          57,
          85,
          78,
          34,
          58,
          70,
          54,
          49,
          75,
          53,
          50,
          87,
          67,
          85,
          58,
          69,
          60,
          57,
          77,
          63,
          66,
          66,
          77,
          70,
          79,
          74,
          60,
          83,
          76,
          70,
          80,
          52,
          96,
          34,
          81,
          98,
          81,
          75,
          51,
          88,
          55,
          74,
          65,
          50,
          64,
          97,
          60,
          88,
          69,
          60,
          53,
          80,
          74,
          50,
          80,
          30,
          88,
          85,
          82,
          78,
          78,
          61,
          70,
          80,
          59,
          90,
          85,
          45,
          90,
          71,
          80,
          87,
          80,
          70,
          82,
          50,
          34,
          85,
          80,
          64,
          60,
          51,
          50,
          67,
          53,
          62,
          75,
          80,
          85,
          60,
          85,
          70,
          65,
          60,
          70,
          60,
          91,
          72,
          60,
          78,
          75,
          52,
          90,
          49,
          106,
          65,
          80,
          64,
          54,
          110,
          80,
          60,
          52,
          80,
          50,
          55,
          90,
          58,
          84,
          60,
          61,
          104,
          42,
          60,
          51,
          54,
          50,
          57,
          65,
          59,
          85,
          80,
          82,
          76,
          70,
          70,
          48,
          65,
          56,
          66,
          40,
          60,
          78,
          60,
          80,
          96,
          69,
          70,
          60,
          86,
          60,
          64,
          85,
          52,
          39,
          73,
          75,
          80,
          60,
          60,
          72,
          60,
          65,
          60,
          65,
          65,
          70,
          41,
          65,
          59,
          50,
          55,
          79,
          80,
          61,
          34,
          68,
          65,
          70,
          60,
          72,
          82,
          30,
          75,
          80,
          75,
          70,
          47,
          67,
          94,
          70,
          110,
          32,
          86,
          100,
          60,
          78,
          63,
          65,
          67,
          35,
          60,
          76,
          50,
          43,
          92,
          76,
          70,
          71,
          57,
          104,
          60,
          79,
          40,
          63,
          107,
          75,
          91,
          75,
          85,
          90,
          78,
          66,
          75,
          45,
          48,
          80,
          44,
          72,
          60,
          60,
          81,
          50,
          65,
          80,
          30,
          44,
          100,
          75,
          60,
          90,
          75,
          70,
          60,
          82,
          80,
          100,
          75,
          36,
          75,
          80,
          36,
          53,
          102,
          65,
          80,
          55,
          75,
          81,
          70,
          72,
          67,
          85,
          80,
          60,
          70,
          74,
          60,
          52,
          75,
          94,
          74,
          88,
          60,
          44,
          60,
          65,
          50,
          70,
          59,
          95,
          60,
          70,
          70,
          64,
          71,
          50,
          64,
          100,
          65,
          64,
          63,
          50,
          80,
          86,
          80,
          51,
          82,
          30,
          50,
          103,
          87,
          70,
          67,
          65,
          50,
          79,
          93,
          73,
          70,
          84,
          63,
          52,
          67,
          75,
          73,
          55,
          42,
          100,
          98,
          70,
          85,
          65,
          78,
          60,
          60,
          60,
          35,
          82,
          70,
          65,
          50,
          80,
          65,
          50,
          75,
          60,
          36,
          55,
          95,
          60,
          51,
          35,
          68,
          80,
          98,
          43,
          75,
          68,
          59,
          83,
          65,
          82,
          80,
          68,
          96,
          51,
          60,
          64,
          74,
          60,
          75,
          43,
          65,
          43,
          60,
          75,
          55,
          60,
          60,
          70,
          73,
          43,
          60,
          64,
          52,
          43,
          70,
          73,
          71,
          79,
          102,
          50,
          89,
          88,
          34,
          86,
          80,
          85,
          57,
          100,
          60,
          73,
          103,
          100,
          68,
          90,
          104,
          43,
          96,
          41,
          85,
          50,
          80,
          59,
          80,
          42,
          60,
          72,
          78,
          50,
          75,
          74,
          75,
          60,
          37,
          65,
          80,
          75,
          70,
          80,
          73,
          85,
          37,
          60,
          60,
          71,
          74,
          78,
          60,
          50,
          82,
          60,
          61,
          70,
          79,
          98,
          107,
          80,
          73,
          66,
          90,
          93,
          57,
          85,
          70,
          59,
          84,
          50,
          60,
          53,
          59,
          60,
          65,
          63,
          90,
          80,
          57,
          60,
          80,
          54,
          98,
          60,
          77,
          60,
          52,
          75,
          50,
          57,
          90,
          90,
          85,
          34,
          92,
          76,
          109,
          60,
          79,
          64,
          58,
          76,
          76,
          35,
          80,
          85,
          37,
          54,
          77,
          64,
          60,
          50,
          60,
          107,
          89,
          68,
          60,
          60,
          80,
          51,
          58,
          65,
          70,
          75,
          71,
          80,
          50,
          75,
          78,
          90,
          70,
          70,
          85,
          70,
          50,
          69,
          99,
          68,
          72,
          52,
          66,
          55,
          78,
          89,
          60,
          65,
          86,
          72,
          65,
          70,
          70,
          70,
          55,
          96,
          36,
          41,
          63,
          64,
          65,
          83,
          85,
          107,
          78,
          65,
          60,
          60,
          93,
          62,
          60,
          52,
          91,
          56,
          59,
          65,
          80,
          60,
          34,
          35,
          60,
          89,
          78,
          53,
          95,
          75,
          60,
          67,
          50,
          61,
          94,
          50,
          50,
          40,
          86,
          60,
          78,
          60,
          70,
          80,
          35,
          75,
          92,
          73,
          32,
          108,
          48,
          60,
          100,
          100,
          68,
          108,
          60,
          85,
          61,
          47,
          75,
          70,
          107,
          50,
          75,
          40,
          70,
          60,
          60,
          63,
          85,
          55,
          67,
          60,
          80,
          87,
          95,
          70,
          66,
          57,
          85,
          50,
          93,
          50,
          91,
          70,
          50,
          56,
          102,
          51,
          73,
          30,
          68,
          41,
          48,
          90,
          80,
          75,
          85,
          89,
          52,
          60,
          73,
          45,
          60,
          60,
          40,
          80,
          60,
          42,
          60,
          70,
          65,
          68,
          60,
          53,
          88,
          51,
          60,
          51,
          50,
          62,
          64,
          49,
          60,
          44,
          70,
          60,
          46,
          79,
          80,
          60,
          88,
          64,
          51,
          60,
          71,
          90,
          53,
          37,
          80,
          81,
          60,
          60,
          60,
          60,
          93,
          80,
          80,
          60,
          96,
          90,
          80,
          79,
          85,
          63,
          70,
          80,
          70,
          60,
          78,
          35,
          90,
          62,
          62,
          85,
          66,
          68,
          75
         ],
         "y0": " ",
         "yaxis": "y"
        }
       ],
       "layout": {
        "boxmode": "group",
        "legend": {
         "tracegroupgap": 0
        },
        "margin": {
         "t": 60
        },
        "template": {
         "data": {
          "bar": [
           {
            "error_x": {
             "color": "#2a3f5f"
            },
            "error_y": {
             "color": "#2a3f5f"
            },
            "marker": {
             "line": {
              "color": "#E5ECF6",
              "width": 0.5
             },
             "pattern": {
              "fillmode": "overlay",
              "size": 10,
              "solidity": 0.2
             }
            },
            "type": "bar"
           }
          ],
          "barpolar": [
           {
            "marker": {
             "line": {
              "color": "#E5ECF6",
              "width": 0.5
             },
             "pattern": {
              "fillmode": "overlay",
              "size": 10,
              "solidity": 0.2
             }
            },
            "type": "barpolar"
           }
          ],
          "carpet": [
           {
            "aaxis": {
             "endlinecolor": "#2a3f5f",
             "gridcolor": "white",
             "linecolor": "white",
             "minorgridcolor": "white",
             "startlinecolor": "#2a3f5f"
            },
            "baxis": {
             "endlinecolor": "#2a3f5f",
             "gridcolor": "white",
             "linecolor": "white",
             "minorgridcolor": "white",
             "startlinecolor": "#2a3f5f"
            },
            "type": "carpet"
           }
          ],
          "choropleth": [
           {
            "colorbar": {
             "outlinewidth": 0,
             "ticks": ""
            },
            "type": "choropleth"
           }
          ],
          "contour": [
           {
            "colorbar": {
             "outlinewidth": 0,
             "ticks": ""
            },
            "colorscale": [
             [
              0,
              "#0d0887"
             ],
             [
              0.1111111111111111,
              "#46039f"
             ],
             [
              0.2222222222222222,
              "#7201a8"
             ],
             [
              0.3333333333333333,
              "#9c179e"
             ],
             [
              0.4444444444444444,
              "#bd3786"
             ],
             [
              0.5555555555555556,
              "#d8576b"
             ],
             [
              0.6666666666666666,
              "#ed7953"
             ],
             [
              0.7777777777777778,
              "#fb9f3a"
             ],
             [
              0.8888888888888888,
              "#fdca26"
             ],
             [
              1,
              "#f0f921"
             ]
            ],
            "type": "contour"
           }
          ],
          "contourcarpet": [
           {
            "colorbar": {
             "outlinewidth": 0,
             "ticks": ""
            },
            "type": "contourcarpet"
           }
          ],
          "heatmap": [
           {
            "colorbar": {
             "outlinewidth": 0,
             "ticks": ""
            },
            "colorscale": [
             [
              0,
              "#0d0887"
             ],
             [
              0.1111111111111111,
              "#46039f"
             ],
             [
              0.2222222222222222,
              "#7201a8"
             ],
             [
              0.3333333333333333,
              "#9c179e"
             ],
             [
              0.4444444444444444,
              "#bd3786"
             ],
             [
              0.5555555555555556,
              "#d8576b"
             ],
             [
              0.6666666666666666,
              "#ed7953"
             ],
             [
              0.7777777777777778,
              "#fb9f3a"
             ],
             [
              0.8888888888888888,
              "#fdca26"
             ],
             [
              1,
              "#f0f921"
             ]
            ],
            "type": "heatmap"
           }
          ],
          "heatmapgl": [
           {
            "colorbar": {
             "outlinewidth": 0,
             "ticks": ""
            },
            "colorscale": [
             [
              0,
              "#0d0887"
             ],
             [
              0.1111111111111111,
              "#46039f"
             ],
             [
              0.2222222222222222,
              "#7201a8"
             ],
             [
              0.3333333333333333,
              "#9c179e"
             ],
             [
              0.4444444444444444,
              "#bd3786"
             ],
             [
              0.5555555555555556,
              "#d8576b"
             ],
             [
              0.6666666666666666,
              "#ed7953"
             ],
             [
              0.7777777777777778,
              "#fb9f3a"
             ],
             [
              0.8888888888888888,
              "#fdca26"
             ],
             [
              1,
              "#f0f921"
             ]
            ],
            "type": "heatmapgl"
           }
          ],
          "histogram": [
           {
            "marker": {
             "pattern": {
              "fillmode": "overlay",
              "size": 10,
              "solidity": 0.2
             }
            },
            "type": "histogram"
           }
          ],
          "histogram2d": [
           {
            "colorbar": {
             "outlinewidth": 0,
             "ticks": ""
            },
            "colorscale": [
             [
              0,
              "#0d0887"
             ],
             [
              0.1111111111111111,
              "#46039f"
             ],
             [
              0.2222222222222222,
              "#7201a8"
             ],
             [
              0.3333333333333333,
              "#9c179e"
             ],
             [
              0.4444444444444444,
              "#bd3786"
             ],
             [
              0.5555555555555556,
              "#d8576b"
             ],
             [
              0.6666666666666666,
              "#ed7953"
             ],
             [
              0.7777777777777778,
              "#fb9f3a"
             ],
             [
              0.8888888888888888,
              "#fdca26"
             ],
             [
              1,
              "#f0f921"
             ]
            ],
            "type": "histogram2d"
           }
          ],
          "histogram2dcontour": [
           {
            "colorbar": {
             "outlinewidth": 0,
             "ticks": ""
            },
            "colorscale": [
             [
              0,
              "#0d0887"
             ],
             [
              0.1111111111111111,
              "#46039f"
             ],
             [
              0.2222222222222222,
              "#7201a8"
             ],
             [
              0.3333333333333333,
              "#9c179e"
             ],
             [
              0.4444444444444444,
              "#bd3786"
             ],
             [
              0.5555555555555556,
              "#d8576b"
             ],
             [
              0.6666666666666666,
              "#ed7953"
             ],
             [
              0.7777777777777778,
              "#fb9f3a"
             ],
             [
              0.8888888888888888,
              "#fdca26"
             ],
             [
              1,
              "#f0f921"
             ]
            ],
            "type": "histogram2dcontour"
           }
          ],
          "mesh3d": [
           {
            "colorbar": {
             "outlinewidth": 0,
             "ticks": ""
            },
            "type": "mesh3d"
           }
          ],
          "parcoords": [
           {
            "line": {
             "colorbar": {
              "outlinewidth": 0,
              "ticks": ""
             }
            },
            "type": "parcoords"
           }
          ],
          "pie": [
           {
            "automargin": true,
            "type": "pie"
           }
          ],
          "scatter": [
           {
            "marker": {
             "colorbar": {
              "outlinewidth": 0,
              "ticks": ""
             }
            },
            "type": "scatter"
           }
          ],
          "scatter3d": [
           {
            "line": {
             "colorbar": {
              "outlinewidth": 0,
              "ticks": ""
             }
            },
            "marker": {
             "colorbar": {
              "outlinewidth": 0,
              "ticks": ""
             }
            },
            "type": "scatter3d"
           }
          ],
          "scattercarpet": [
           {
            "marker": {
             "colorbar": {
              "outlinewidth": 0,
              "ticks": ""
             }
            },
            "type": "scattercarpet"
           }
          ],
          "scattergeo": [
           {
            "marker": {
             "colorbar": {
              "outlinewidth": 0,
              "ticks": ""
             }
            },
            "type": "scattergeo"
           }
          ],
          "scattergl": [
           {
            "marker": {
             "colorbar": {
              "outlinewidth": 0,
              "ticks": ""
             }
            },
            "type": "scattergl"
           }
          ],
          "scattermapbox": [
           {
            "marker": {
             "colorbar": {
              "outlinewidth": 0,
              "ticks": ""
             }
            },
            "type": "scattermapbox"
           }
          ],
          "scatterpolar": [
           {
            "marker": {
             "colorbar": {
              "outlinewidth": 0,
              "ticks": ""
             }
            },
            "type": "scatterpolar"
           }
          ],
          "scatterpolargl": [
           {
            "marker": {
             "colorbar": {
              "outlinewidth": 0,
              "ticks": ""
             }
            },
            "type": "scatterpolargl"
           }
          ],
          "scatterternary": [
           {
            "marker": {
             "colorbar": {
              "outlinewidth": 0,
              "ticks": ""
             }
            },
            "type": "scatterternary"
           }
          ],
          "surface": [
           {
            "colorbar": {
             "outlinewidth": 0,
             "ticks": ""
            },
            "colorscale": [
             [
              0,
              "#0d0887"
             ],
             [
              0.1111111111111111,
              "#46039f"
             ],
             [
              0.2222222222222222,
              "#7201a8"
             ],
             [
              0.3333333333333333,
              "#9c179e"
             ],
             [
              0.4444444444444444,
              "#bd3786"
             ],
             [
              0.5555555555555556,
              "#d8576b"
             ],
             [
              0.6666666666666666,
              "#ed7953"
             ],
             [
              0.7777777777777778,
              "#fb9f3a"
             ],
             [
              0.8888888888888888,
              "#fdca26"
             ],
             [
              1,
              "#f0f921"
             ]
            ],
            "type": "surface"
           }
          ],
          "table": [
           {
            "cells": {
             "fill": {
              "color": "#EBF0F8"
             },
             "line": {
              "color": "white"
             }
            },
            "header": {
             "fill": {
              "color": "#C8D4E3"
             },
             "line": {
              "color": "white"
             }
            },
            "type": "table"
           }
          ]
         },
         "layout": {
          "annotationdefaults": {
           "arrowcolor": "#2a3f5f",
           "arrowhead": 0,
           "arrowwidth": 1
          },
          "autotypenumbers": "strict",
          "coloraxis": {
           "colorbar": {
            "outlinewidth": 0,
            "ticks": ""
           }
          },
          "colorscale": {
           "diverging": [
            [
             0,
             "#8e0152"
            ],
            [
             0.1,
             "#c51b7d"
            ],
            [
             0.2,
             "#de77ae"
            ],
            [
             0.3,
             "#f1b6da"
            ],
            [
             0.4,
             "#fde0ef"
            ],
            [
             0.5,
             "#f7f7f7"
            ],
            [
             0.6,
             "#e6f5d0"
            ],
            [
             0.7,
             "#b8e186"
            ],
            [
             0.8,
             "#7fbc41"
            ],
            [
             0.9,
             "#4d9221"
            ],
            [
             1,
             "#276419"
            ]
           ],
           "sequential": [
            [
             0,
             "#0d0887"
            ],
            [
             0.1111111111111111,
             "#46039f"
            ],
            [
             0.2222222222222222,
             "#7201a8"
            ],
            [
             0.3333333333333333,
             "#9c179e"
            ],
            [
             0.4444444444444444,
             "#bd3786"
            ],
            [
             0.5555555555555556,
             "#d8576b"
            ],
            [
             0.6666666666666666,
             "#ed7953"
            ],
            [
             0.7777777777777778,
             "#fb9f3a"
            ],
            [
             0.8888888888888888,
             "#fdca26"
            ],
            [
             1,
             "#f0f921"
            ]
           ],
           "sequentialminus": [
            [
             0,
             "#0d0887"
            ],
            [
             0.1111111111111111,
             "#46039f"
            ],
            [
             0.2222222222222222,
             "#7201a8"
            ],
            [
             0.3333333333333333,
             "#9c179e"
            ],
            [
             0.4444444444444444,
             "#bd3786"
            ],
            [
             0.5555555555555556,
             "#d8576b"
            ],
            [
             0.6666666666666666,
             "#ed7953"
            ],
            [
             0.7777777777777778,
             "#fb9f3a"
            ],
            [
             0.8888888888888888,
             "#fdca26"
            ],
            [
             1,
             "#f0f921"
            ]
           ]
          },
          "colorway": [
           "#636efa",
           "#EF553B",
           "#00cc96",
           "#ab63fa",
           "#FFA15A",
           "#19d3f3",
           "#FF6692",
           "#B6E880",
           "#FF97FF",
           "#FECB52"
          ],
          "font": {
           "color": "#2a3f5f"
          },
          "geo": {
           "bgcolor": "white",
           "lakecolor": "white",
           "landcolor": "#E5ECF6",
           "showlakes": true,
           "showland": true,
           "subunitcolor": "white"
          },
          "hoverlabel": {
           "align": "left"
          },
          "hovermode": "closest",
          "mapbox": {
           "style": "light"
          },
          "paper_bgcolor": "white",
          "plot_bgcolor": "#E5ECF6",
          "polar": {
           "angularaxis": {
            "gridcolor": "white",
            "linecolor": "white",
            "ticks": ""
           },
           "bgcolor": "#E5ECF6",
           "radialaxis": {
            "gridcolor": "white",
            "linecolor": "white",
            "ticks": ""
           }
          },
          "scene": {
           "xaxis": {
            "backgroundcolor": "#E5ECF6",
            "gridcolor": "white",
            "gridwidth": 2,
            "linecolor": "white",
            "showbackground": true,
            "ticks": "",
            "zerolinecolor": "white"
           },
           "yaxis": {
            "backgroundcolor": "#E5ECF6",
            "gridcolor": "white",
            "gridwidth": 2,
            "linecolor": "white",
            "showbackground": true,
            "ticks": "",
            "zerolinecolor": "white"
           },
           "zaxis": {
            "backgroundcolor": "#E5ECF6",
            "gridcolor": "white",
            "gridwidth": 2,
            "linecolor": "white",
            "showbackground": true,
            "ticks": "",
            "zerolinecolor": "white"
           }
          },
          "shapedefaults": {
           "line": {
            "color": "#2a3f5f"
           }
          },
          "ternary": {
           "aaxis": {
            "gridcolor": "white",
            "linecolor": "white",
            "ticks": ""
           },
           "baxis": {
            "gridcolor": "white",
            "linecolor": "white",
            "ticks": ""
           },
           "bgcolor": "#E5ECF6",
           "caxis": {
            "gridcolor": "white",
            "linecolor": "white",
            "ticks": ""
           }
          },
          "title": {
           "x": 0.05
          },
          "xaxis": {
           "automargin": true,
           "gridcolor": "white",
           "linecolor": "white",
           "ticks": "",
           "title": {
            "standoff": 15
           },
           "zerolinecolor": "white",
           "zerolinewidth": 2
          },
          "yaxis": {
           "automargin": true,
           "gridcolor": "white",
           "linecolor": "white",
           "ticks": "",
           "title": {
            "standoff": 15
           },
           "zerolinecolor": "white",
           "zerolinewidth": 2
          }
         }
        },
        "xaxis": {
         "anchor": "y",
         "domain": [
          0,
          1
         ],
         "title": {
          "text": "Neighborhood"
         }
        },
        "yaxis": {
         "anchor": "x",
         "domain": [
          0,
          1
         ],
         "title": {
          "text": "LotFrontage"
         }
        }
       }
      }
     },
     "metadata": {},
     "output_type": "display_data"
    }
   ],
   "source": [
    "fig = px.box(X_train[(X_train.LotFrontage < h_outliers_) & (X_train.LotFrontage > l_outliers_) ],x=\"Neighborhood\",y=\"LotFrontage\")\n",
    "fig.show()"
   ]
  },
  {
   "cell_type": "code",
   "execution_count": 180,
   "metadata": {},
   "outputs": [],
   "source": [
    "#Aqui agrupo por neighborhood para sacar la media de LotFrontage y asi crear un diccionario de \n",
    "mean_lotfront_per_neighbour = pd.DataFrame(X_train[(X_train.LotFrontage < h_outliers_) & (X_train.LotFrontage > l_outliers_) ].groupby(\"Neighborhood\")[\"LotFrontage\"].mean())\n",
    "map_dict = {mean_lotfront_per_neighbour.LotFrontage.index[i] : mean_lotfront_per_neighbour.LotFrontage.values[i] for i in range(len(mean_lotfront_per_neighbour.LotFrontage.index))}"
   ]
  },
  {
   "cell_type": "code",
   "execution_count": 181,
   "metadata": {},
   "outputs": [],
   "source": [
    "X_train.loc[X_train.LotFrontage.isnull(),\"LotFrontage\"] = X_train[X_train.LotFrontage.isnull()].Neighborhood.map(map_dict)"
   ]
  },
  {
   "cell_type": "markdown",
   "metadata": {},
   "source": [
    "## Imputacion de las demas variables"
   ]
  },
  {
   "cell_type": "code",
   "execution_count": 182,
   "metadata": {},
   "outputs": [
    {
     "data": {
      "text/plain": [
       "MasVnrType       8\n",
       "MasVnrArea       8\n",
       "BsmtQual        37\n",
       "BsmtCond        37\n",
       "BsmtExposure    38\n",
       "BsmtFinType1    37\n",
       "BsmtFinType2    38\n",
       "Electrical       1\n",
       "GarageType      81\n",
       "GarageYrBlt     81\n",
       "GarageFinish    81\n",
       "GarageQual      81\n",
       "GarageCond      81\n",
       "dtype: int64"
      ]
     },
     "execution_count": 182,
     "metadata": {},
     "output_type": "execute_result"
    }
   ],
   "source": [
    "X_train.isna().sum()[X_train.isna().sum()>0]"
   ]
  },
  {
   "cell_type": "code",
   "execution_count": 184,
   "metadata": {},
   "outputs": [],
   "source": [
    "#Hay 81 valores nulos en las columnas relacionadas con el garage, revisando el diccionario, verificamos que se debe a que estas casas no tienen un garage, asi que imputamos los valores nulos por NONE\n",
    "for col in [\"GarageType\",\"GarageFinish\",\"GarageQual\",\"GarageCond\"]:\n",
    "    X_train.loc[X_train[col].isnull(),col] = \"No Garage\"\n",
    "X_train.loc[X_train[\"GarageYrBlt\"].isnull(),\"GarageYrBlt\"] = 0\n",
    "#Perfecto, hemos imputado los valores faltantes de estas columnas."
   ]
  },
  {
   "cell_type": "code",
   "execution_count": 185,
   "metadata": {},
   "outputs": [
    {
     "data": {
      "text/plain": [
       "MasVnrType    8\n",
       "MasVnrArea    8\n",
       "Electrical    1\n",
       "dtype: int64"
      ]
     },
     "execution_count": 185,
     "metadata": {},
     "output_type": "execute_result"
    }
   ],
   "source": [
    "#Se realizara el mismo procedimiento para los campos \"Basement\"\n",
    "for col in [\"BsmtQual\",\"BsmtCond\",\"BsmtExposure\",\"BsmtFinType1\",\"BsmtFinType2\"]:\n",
    "    X_train.loc[X_train[col].isnull(),col] = \"No Basement\"\n",
    "X_train.isna().sum()[X_train.isna().sum()>0]"
   ]
  },
  {
   "cell_type": "code",
   "execution_count": 186,
   "metadata": {},
   "outputs": [
    {
     "data": {
      "text/plain": [
       "Electrical    1\n",
       "dtype: int64"
      ]
     },
     "execution_count": 186,
     "metadata": {},
     "output_type": "execute_result"
    }
   ],
   "source": [
    "#Para el campo MasVnrType verificamos que los campos con NA es porque no tienen chapa de mamposteria\n",
    "X_train.loc[X_train[\"MasVnrType\"].isnull(),\"MasVnrType\"] = \"None\"\n",
    "X_train.loc[X_train[\"MasVnrArea\"].isnull(),\"MasVnrArea\"] = 0\n",
    "X_train.isna().sum()[X_train.isna().sum()>0]"
   ]
  },
  {
   "cell_type": "markdown",
   "metadata": {},
   "source": [
    "## Codificacion de Variables categoricas "
   ]
  },
  {
   "cell_type": "code",
   "execution_count": 187,
   "metadata": {},
   "outputs": [],
   "source": [
    "#Hice una exploracion de cada campo, verificando si es una variable ordinal o nominal, ya que hay diferencia entre este tipo de variables categoricas\n",
    "#cada una se codifica de una manera distinta. Las variables que pueden ser ordenadas las almacene en \"ordinal_cols\"\n",
    "from sklearn.preprocessing import LabelEncoder\n",
    "ordinal_cols = [\"Street\", \"LotShape\", \"LandContour\", \"Utilities\", \"LandSlope\", \"MSSubClass\", \"OverallQual\",\"OverallCond\",\"ExterQual\",\"ExterCond\",\"BsmtQual\",\"BsmtCond\",\"BsmtExposure\",\"BsmtFinType1\",\"BsmtFinType2\",\"HeatingQC\",\"CentralAir\",\"Electrical\",\"KitchenQual\",\"FireplaceQu\",\"GarageFinish\",\"GarageQual\",\"GarageCond\",\"PoolQC\",\"Fence\"]\n",
    "#Ahora se transforman:\n",
    "for col in ordinal_cols:\n",
    "    le = LabelEncoder()\n",
    "    le.fit(list(X_train[col].values)) \n",
    "    X_train[col] = le.transform(list(X_train[col].values))\n",
    "\n"
   ]
  },
  {
   "cell_type": "code",
   "execution_count": 188,
   "metadata": {},
   "outputs": [
    {
     "data": {
      "text/plain": [
       "21"
      ]
     },
     "execution_count": 188,
     "metadata": {},
     "output_type": "execute_result"
    }
   ],
   "source": [
    "#Variables categoricas nominales:\n",
    "categorical_variables = [col for col in X_train.columns if X_train[col].dtype == \"object\"]\n",
    "len(categorical_variables)"
   ]
  },
  {
   "cell_type": "code",
   "execution_count": 189,
   "metadata": {},
   "outputs": [],
   "source": [
    "#Importamos lo necesario para realizar el One Hot encoder:\n",
    "from sklearn.preprocessing import OneHotEncoder\n",
    "from sklearn.compose import ColumnTransformer\n",
    "\n",
    "ct = ColumnTransformer([('ohe', OneHotEncoder(handle_unknown=\"ignore\",sparse=False), categorical_variables)],#Los nuevos valores que se encuentren en las columnas de test, los ignorará\n",
    "                         remainder='passthrough') #transformamos las columnas categoricas, y las demas cols las pasamos de largo\n",
    "                         \n",
    "OH_X_train = pd.DataFrame(ct.fit_transform(X_train), columns=ct.get_feature_names_out())\n",
    "#OH_X_valid = pd.DataFrame(ct.transform(X_test), columns=ct.get_feature_names_out())\n",
    "\n",
    "OH_X_train.index = X_train.index \n",
    "#OH_X_valid.index = X_test.index"
   ]
  },
  {
   "cell_type": "code",
   "execution_count": 191,
   "metadata": {},
   "outputs": [
    {
     "ename": "KeyError",
     "evalue": "'SalePrice'",
     "output_type": "error",
     "traceback": [
      "\u001b[1;31m---------------------------------------------------------------------------\u001b[0m",
      "\u001b[1;31mKeyError\u001b[0m                                  Traceback (most recent call last)",
      "File \u001b[1;32mc:\\Users\\user\\anaconda3\\lib\\site-packages\\pandas\\core\\indexes\\base.py:3621\u001b[0m, in \u001b[0;36mIndex.get_loc\u001b[1;34m(self, key, method, tolerance)\u001b[0m\n\u001b[0;32m   3620\u001b[0m \u001b[39mtry\u001b[39;00m:\n\u001b[1;32m-> 3621\u001b[0m     \u001b[39mreturn\u001b[39;00m \u001b[39mself\u001b[39;49m\u001b[39m.\u001b[39;49m_engine\u001b[39m.\u001b[39;49mget_loc(casted_key)\n\u001b[0;32m   3622\u001b[0m \u001b[39mexcept\u001b[39;00m \u001b[39mKeyError\u001b[39;00m \u001b[39mas\u001b[39;00m err:\n",
      "File \u001b[1;32mc:\\Users\\user\\anaconda3\\lib\\site-packages\\pandas\\_libs\\index.pyx:136\u001b[0m, in \u001b[0;36mpandas._libs.index.IndexEngine.get_loc\u001b[1;34m()\u001b[0m\n",
      "File \u001b[1;32mc:\\Users\\user\\anaconda3\\lib\\site-packages\\pandas\\_libs\\index.pyx:163\u001b[0m, in \u001b[0;36mpandas._libs.index.IndexEngine.get_loc\u001b[1;34m()\u001b[0m\n",
      "File \u001b[1;32mpandas\\_libs\\hashtable_class_helper.pxi:5198\u001b[0m, in \u001b[0;36mpandas._libs.hashtable.PyObjectHashTable.get_item\u001b[1;34m()\u001b[0m\n",
      "File \u001b[1;32mpandas\\_libs\\hashtable_class_helper.pxi:5206\u001b[0m, in \u001b[0;36mpandas._libs.hashtable.PyObjectHashTable.get_item\u001b[1;34m()\u001b[0m\n",
      "\u001b[1;31mKeyError\u001b[0m: 'SalePrice'",
      "\nThe above exception was the direct cause of the following exception:\n",
      "\u001b[1;31mKeyError\u001b[0m                                  Traceback (most recent call last)",
      "\u001b[1;32mc:\\Users\\user\\Desktop\\daniel\\DATA SCIENCE\\HENRY\\HENRY BOOTCAMP\\HACKATON\\Hackathon\\Housing Dreams\\dream_house copy.ipynb Cell 28\u001b[0m in \u001b[0;36m<cell line: 4>\u001b[1;34m()\u001b[0m\n\u001b[0;32m      <a href='vscode-notebook-cell:/c%3A/Users/user/Desktop/daniel/DATA%20SCIENCE/HENRY/HENRY%20BOOTCAMP/HACKATON/Hackathon/Housing%20Dreams/dream_house%20copy.ipynb#ch0000060?line=1'>2</a>\u001b[0m X_train\u001b[39m.\u001b[39mdropna(axis\u001b[39m=\u001b[39m\u001b[39m0\u001b[39m,inplace\u001b[39m=\u001b[39m\u001b[39mTrue\u001b[39;00m)\n\u001b[0;32m      <a href='vscode-notebook-cell:/c%3A/Users/user/Desktop/daniel/DATA%20SCIENCE/HENRY/HENRY%20BOOTCAMP/HACKATON/Hackathon/Housing%20Dreams/dream_house%20copy.ipynb#ch0000060?line=2'>3</a>\u001b[0m X_test\u001b[39m.\u001b[39mdropna(axis\u001b[39m=\u001b[39m\u001b[39m0\u001b[39m,inplace\u001b[39m=\u001b[39m\u001b[39mTrue\u001b[39;00m)\n\u001b[1;32m----> <a href='vscode-notebook-cell:/c%3A/Users/user/Desktop/daniel/DATA%20SCIENCE/HENRY/HENRY%20BOOTCAMP/HACKATON/Hackathon/Housing%20Dreams/dream_house%20copy.ipynb#ch0000060?line=3'>4</a>\u001b[0m y_train \u001b[39m=\u001b[39m X_train\u001b[39m.\u001b[39;49mpop(\u001b[39m\"\u001b[39;49m\u001b[39mSalePrice\u001b[39;49m\u001b[39m\"\u001b[39;49m)\n\u001b[0;32m      <a href='vscode-notebook-cell:/c%3A/Users/user/Desktop/daniel/DATA%20SCIENCE/HENRY/HENRY%20BOOTCAMP/HACKATON/Hackathon/Housing%20Dreams/dream_house%20copy.ipynb#ch0000060?line=4'>5</a>\u001b[0m \u001b[39mprint\u001b[39m(X_train\u001b[39m.\u001b[39mshape,OH_X_train\u001b[39m.\u001b[39mshape)\n",
      "File \u001b[1;32mc:\\Users\\user\\anaconda3\\lib\\site-packages\\pandas\\core\\frame.py:5270\u001b[0m, in \u001b[0;36mDataFrame.pop\u001b[1;34m(self, item)\u001b[0m\n\u001b[0;32m   5229\u001b[0m \u001b[39mdef\u001b[39;00m \u001b[39mpop\u001b[39m(\u001b[39mself\u001b[39m, item: Hashable) \u001b[39m-\u001b[39m\u001b[39m>\u001b[39m Series:\n\u001b[0;32m   5230\u001b[0m     \u001b[39m\"\"\"\u001b[39;00m\n\u001b[0;32m   5231\u001b[0m \u001b[39m    Return item and drop from frame. Raise KeyError if not found.\u001b[39;00m\n\u001b[0;32m   5232\u001b[0m \n\u001b[1;32m   (...)\u001b[0m\n\u001b[0;32m   5268\u001b[0m \u001b[39m    3  monkey        NaN\u001b[39;00m\n\u001b[0;32m   5269\u001b[0m \u001b[39m    \"\"\"\u001b[39;00m\n\u001b[1;32m-> 5270\u001b[0m     \u001b[39mreturn\u001b[39;00m \u001b[39msuper\u001b[39;49m()\u001b[39m.\u001b[39;49mpop(item\u001b[39m=\u001b[39;49mitem)\n",
      "File \u001b[1;32mc:\\Users\\user\\anaconda3\\lib\\site-packages\\pandas\\core\\generic.py:865\u001b[0m, in \u001b[0;36mNDFrame.pop\u001b[1;34m(self, item)\u001b[0m\n\u001b[0;32m    864\u001b[0m \u001b[39mdef\u001b[39;00m \u001b[39mpop\u001b[39m(\u001b[39mself\u001b[39m, item: Hashable) \u001b[39m-\u001b[39m\u001b[39m>\u001b[39m Series \u001b[39m|\u001b[39m Any:\n\u001b[1;32m--> 865\u001b[0m     result \u001b[39m=\u001b[39m \u001b[39mself\u001b[39;49m[item]\n\u001b[0;32m    866\u001b[0m     \u001b[39mdel\u001b[39;00m \u001b[39mself\u001b[39m[item]\n\u001b[0;32m    868\u001b[0m     \u001b[39mreturn\u001b[39;00m result\n",
      "File \u001b[1;32mc:\\Users\\user\\anaconda3\\lib\\site-packages\\pandas\\core\\frame.py:3505\u001b[0m, in \u001b[0;36mDataFrame.__getitem__\u001b[1;34m(self, key)\u001b[0m\n\u001b[0;32m   3503\u001b[0m \u001b[39mif\u001b[39;00m \u001b[39mself\u001b[39m\u001b[39m.\u001b[39mcolumns\u001b[39m.\u001b[39mnlevels \u001b[39m>\u001b[39m \u001b[39m1\u001b[39m:\n\u001b[0;32m   3504\u001b[0m     \u001b[39mreturn\u001b[39;00m \u001b[39mself\u001b[39m\u001b[39m.\u001b[39m_getitem_multilevel(key)\n\u001b[1;32m-> 3505\u001b[0m indexer \u001b[39m=\u001b[39m \u001b[39mself\u001b[39;49m\u001b[39m.\u001b[39;49mcolumns\u001b[39m.\u001b[39;49mget_loc(key)\n\u001b[0;32m   3506\u001b[0m \u001b[39mif\u001b[39;00m is_integer(indexer):\n\u001b[0;32m   3507\u001b[0m     indexer \u001b[39m=\u001b[39m [indexer]\n",
      "File \u001b[1;32mc:\\Users\\user\\anaconda3\\lib\\site-packages\\pandas\\core\\indexes\\base.py:3623\u001b[0m, in \u001b[0;36mIndex.get_loc\u001b[1;34m(self, key, method, tolerance)\u001b[0m\n\u001b[0;32m   3621\u001b[0m     \u001b[39mreturn\u001b[39;00m \u001b[39mself\u001b[39m\u001b[39m.\u001b[39m_engine\u001b[39m.\u001b[39mget_loc(casted_key)\n\u001b[0;32m   3622\u001b[0m \u001b[39mexcept\u001b[39;00m \u001b[39mKeyError\u001b[39;00m \u001b[39mas\u001b[39;00m err:\n\u001b[1;32m-> 3623\u001b[0m     \u001b[39mraise\u001b[39;00m \u001b[39mKeyError\u001b[39;00m(key) \u001b[39mfrom\u001b[39;00m \u001b[39merr\u001b[39;00m\n\u001b[0;32m   3624\u001b[0m \u001b[39mexcept\u001b[39;00m \u001b[39mTypeError\u001b[39;00m:\n\u001b[0;32m   3625\u001b[0m     \u001b[39m# If we have a listlike key, _check_indexing_error will raise\u001b[39;00m\n\u001b[0;32m   3626\u001b[0m     \u001b[39m#  InvalidIndexError. Otherwise we fall through and re-raise\u001b[39;00m\n\u001b[0;32m   3627\u001b[0m     \u001b[39m#  the TypeError.\u001b[39;00m\n\u001b[0;32m   3628\u001b[0m     \u001b[39mself\u001b[39m\u001b[39m.\u001b[39m_check_indexing_error(key)\n",
      "\u001b[1;31mKeyError\u001b[0m: 'SalePrice'"
     ]
    }
   ],
   "source": [
    "#Aqui dropeamos los valores nulos de las demas columnas \"Electrical\" solo 1 valor nulo\n",
    "X_train.dropna(axis=0,inplace=True)\n",
    "#X_test.dropna(axis=0,inplace=True)\n",
    "y_train = X_train.pop(\"SalePrice\")\n",
    "print(X_train.shape,OH_X_train.shape)"
   ]
  },
  {
   "cell_type": "code",
   "execution_count": 192,
   "metadata": {},
   "outputs": [
    {
     "name": "stdout",
     "output_type": "stream",
     "text": [
      "(1460, 80) (1460, 226)\n"
     ]
    }
   ],
   "source": [
    "print(X_train.shape,OH_X_train.shape)"
   ]
  },
  {
   "cell_type": "markdown",
   "metadata": {},
   "source": [
    "## Creacion del modelo y obtencion del error\n"
   ]
  },
  {
   "cell_type": "code",
   "execution_count": 193,
   "metadata": {},
   "outputs": [
    {
     "name": "stdout",
     "output_type": "stream",
     "text": [
      "0.004222084149683005\n"
     ]
    }
   ],
   "source": [
    "from sklearn.metrics import mean_squared_log_error\n",
    "from sklearn.ensemble import RandomForestRegressor\n",
    "\n",
    "bosque = RandomForestRegressor(n_estimators=200, random_state=0) #Instanciamos el modelo\n",
    "bosque.fit(OH_X_train, y_train) #Fiteamos el modelo con nuestra data de train\n",
    "y_pred = bosque.predict(OH_X_train) #Predecimos para esa misma data\n",
    "\n",
    "\n",
    "print(mean_squared_log_error(y_train,y_pred,squared=False))"
   ]
  }
 ],
 "metadata": {
  "kernelspec": {
   "display_name": "Python 3.9.12 ('base')",
   "language": "python",
   "name": "python3"
  },
  "language_info": {
   "codemirror_mode": {
    "name": "ipython",
    "version": 3
   },
   "file_extension": ".py",
   "mimetype": "text/x-python",
   "name": "python",
   "nbconvert_exporter": "python",
   "pygments_lexer": "ipython3",
   "version": "3.9.12"
  },
  "orig_nbformat": 4,
  "vscode": {
   "interpreter": {
    "hash": "a077222d77dfe082b8f1dd562ad70e458ac2ab76993a0b248ab0476e32e9e8dd"
   }
  }
 },
 "nbformat": 4,
 "nbformat_minor": 2
}
